{
 "cells": [
  {
   "cell_type": "code",
   "execution_count": 48,
   "metadata": {},
   "outputs": [],
   "source": [
    "import numpy as np\n",
    "import matplotlib.pyplot as plt\n",
    "%matplotlib inline\n",
    "\n",
    "\n",
    "\n",
    "class EMA:\n",
    "    #https://stackoverflow.com/questions/42869495/numpy-version-of-exponential-weighted-moving-average-equivalent-to-pandas-ewm\n",
    "    def __init__(self, window):\n",
    "        self.window = window\n",
    "        alpha = 2 /(window)\n",
    "        alpha_rev = 1 - alpha\n",
    "        self.pows = alpha_rev**(np.arange(window))\n",
    "        self.pows = np.flip(pows, 0)\n",
    "        self.norm = np.sum(self.pows)\n",
    "    \n",
    "        self.data = np.array([])\n",
    "        self.count = 0\n",
    "        \n",
    "    def tick(self, val):\n",
    "        ret = None\n",
    "        if self.count < self.window:\n",
    "            self.data = np.append(self.data, val)\n",
    "            self.count += 1\n",
    "            if self.count == self.window:\n",
    "                ret = np.sum(self.data * self.pows) / self.norm\n",
    "        else:\n",
    "            np.roll(self.data, -1)\n",
    "            self.data[-1] = val\n",
    "            ret = np.sum(self.data * self.pows) / self.norm\n",
    "        return ret"
   ]
  },
  {
   "cell_type": "code",
   "execution_count": 49,
   "metadata": {},
   "outputs": [],
   "source": [
    "window = 10\n",
    "alpha = 2 / (window + 1)\n",
    "alpha_rev = 1 - alpha\n",
    "data = np.array([1,2,3,4,5,6,7,8,9,10])\n",
    "n = data.shape[0]"
   ]
  },
  {
   "cell_type": "code",
   "execution_count": 50,
   "metadata": {},
   "outputs": [
    {
     "name": "stdout",
     "output_type": "stream",
     "text": [
      "None\n",
      "None\n",
      "None\n",
      "None\n",
      "None\n",
      "None\n",
      "None\n",
      "None\n",
      "None\n",
      "6.053089074493298\n",
      "6.263145239484086\n",
      "6.473201404474873\n",
      "6.68325756946566\n",
      "6.893313734456447\n",
      "7.103369899447234\n",
      "7.313426064438021\n",
      "7.523482229428808\n",
      "7.733538394419596\n",
      "7.943594559410383\n",
      "8.153650724401171\n"
     ]
    }
   ],
   "source": [
    "e = EMA(10)\n",
    "for i in range(20):\n",
    "    print(e.tick(i))"
   ]
  },
  {
   "cell_type": "code",
   "execution_count": 23,
   "metadata": {},
   "outputs": [],
   "source": [
    "pows = alpha_rev**(np.arange(n))"
   ]
  },
  {
   "cell_type": "code",
   "execution_count": 33,
   "metadata": {},
   "outputs": [
    {
     "data": {
      "text/plain": [
       "[<matplotlib.lines.Line2D at 0x117b0ce48>]"
      ]
     },
     "execution_count": 33,
     "metadata": {},
     "output_type": "execute_result"
    },
    {
     "data": {
      "image/png": "[encoded data removed]",
      "text/plain": [
       "<matplotlib.figure.Figure at 0x1175a0278>"
      ]
     },
     "metadata": {},
     "output_type": "display_data"
    }
   ],
   "source": [
    "plt.plot(np.flip(pows, 0))"
   ]
  },
  {
   "cell_type": "code",
   "execution_count": 16,
   "metadata": {},
   "outputs": [
    {
     "data": {
      "text/plain": [
       "array([ 2,  3,  4,  5,  6,  7,  8,  9, 10,  1])"
      ]
     },
     "execution_count": 16,
     "metadata": {},
     "output_type": "execute_result"
    }
   ],
   "source": [
    "np.roll(data, -1)"
   ]
  },
  {
   "cell_type": "code",
   "execution_count": 19,
   "metadata": {},
   "outputs": [],
   "source": [
    "data[-1] = 10"
   ]
  },
  {
   "cell_type": "code",
   "execution_count": 20,
   "metadata": {},
   "outputs": [
    {
     "data": {
      "text/plain": [
       "array([0, 1])"
      ]
     },
     "execution_count": 20,
     "metadata": {},
     "output_type": "execute_result"
    }
   ],
   "source": [
    "np.arange(2)"
   ]
  },
  {
   "cell_type": "code",
   "execution_count": 21,
   "metadata": {},
   "outputs": [
    {
     "data": {
      "text/plain": [
       "array([ 1,  2,  3,  4,  5,  6,  7,  8,  9, 10])"
      ]
     },
     "execution_count": 21,
     "metadata": {},
     "output_type": "execute_result"
    }
   ],
   "source": [
    "data"
   ]
  },
  {
   "cell_type": "code",
   "execution_count": 24,
   "metadata": {},
   "outputs": [
    {
     "data": {
      "text/plain": [
       "array([1.        , 0.81818182, 0.66942149, 0.54770849, 0.44812513,\n",
       "       0.36664783, 0.29998459, 0.24544194, 0.20081613, 0.16430411])"
      ]
     },
     "execution_count": 24,
     "metadata": {},
     "output_type": "execute_result"
    }
   ],
   "source": [
    "pows"
   ]
  },
  {
   "cell_type": "code",
   "execution_count": 25,
   "metadata": {},
   "outputs": [
    {
     "data": {
      "text/plain": [
       "array([1.        , 1.63636364, 2.00826446, 2.19083396, 2.24062564,\n",
       "       2.19988699, 2.09989213, 1.9635355 , 1.80734517, 1.64304107])"
      ]
     },
     "execution_count": 25,
     "metadata": {},
     "output_type": "execute_result"
    }
   ],
   "source": [
    "data * pows"
   ]
  },
  {
   "cell_type": "code",
   "execution_count": 29,
   "metadata": {},
   "outputs": [
    {
     "data": {
      "text/plain": [
       "3.946910925506703"
      ]
     },
     "execution_count": 29,
     "metadata": {},
     "output_type": "execute_result"
    }
   ],
   "source": [
    "np.sum(data * pows) / np.sum(pows)"
   ]
  },
  {
   "cell_type": "code",
   "execution_count": 53,
   "metadata": {},
   "outputs": [
    {
     "name": "stdout",
     "output_type": "stream",
     "text": [
      "[1.         1.22222222 1.49382716 1.82578875 2.23151959 2.72741283\n",
      " 3.33350457 4.07428336 4.97967966]\n"
     ]
    }
   ],
   "source": [
    "scale_arr = 1/pows[:-1]\n",
    "print(scale_arr)"
   ]
  },
  {
   "cell_type": "code",
   "execution_count": null,
   "metadata": {},
   "outputs": [],
   "source": [
    "offset = data[0]*pows[1:]\n",
    "pw0 = alpha*alpha_rev**(n-1)\n",
    "\n",
    "mult = data*pw0*scale_arr\n",
    "cumsums = mult.cumsum()"
   ]
  }
 ],
 "metadata": {
  "kernelspec": {
   "display_name": "Python 3",
   "language": "python",
   "name": "python3"
  },
  "language_info": {
   "codemirror_mode": {
    "name": "ipython",
    "version": 3
   },
   "file_extension": ".py",
   "mimetype": "text/x-python",
   "name": "python",
   "nbconvert_exporter": "python",
   "pygments_lexer": "ipython3",
   "version": "3.6.4"
  }
 },
 "nbformat": 4,
 "nbformat_minor": 2
}
