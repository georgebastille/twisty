{
 "cells": [
  {
   "cell_type": "code",
   "execution_count": 1,
   "metadata": {},
   "outputs": [],
   "source": [
    "import gdax\n",
    "\n",
    "client = gdax.AuthenticatedClient(key, b64secret, passphrase)"
   ]
  },
  {
   "cell_type": "code",
   "execution_count": 2,
   "metadata": {},
   "outputs": [
    {
     "data": {
      "text/plain": [
       "[[{'created_at': '2018-02-17T18:08:53.425523Z',\n",
       "   'executed_value': '0.0000000000000000',\n",
       "   'fill_fees': '0.0000000000000000',\n",
       "   'filled_size': '0.00000000',\n",
       "   'id': '51201f8e-a533-4944-b6e7-d4a3f43304b3',\n",
       "   'post_only': True,\n",
       "   'price': '785.52000000',\n",
       "   'product_id': 'ETH-EUR',\n",
       "   'settled': False,\n",
       "   'side': 'sell',\n",
       "   'size': '0.15220000',\n",
       "   'status': 'open',\n",
       "   'time_in_force': 'GTC',\n",
       "   'type': 'limit'}]]"
      ]
     },
     "execution_count": 2,
     "metadata": {},
     "output_type": "execute_result"
    }
   ],
   "source": [
    "client.get_orders()"
   ]
  },
  {
   "cell_type": "code",
   "execution_count": 8,
   "metadata": {},
   "outputs": [
    {
     "data": {
      "text/plain": [
       "['8fe46a36-fa01-49a3-9000-738d3a8ccac4']"
      ]
     },
     "execution_count": 8,
     "metadata": {},
     "output_type": "execute_result"
    }
   ],
   "source": [
    "client.cancel_all('ETH-EUR')"
   ]
  },
  {
   "cell_type": "code",
   "execution_count": 4,
   "metadata": {},
   "outputs": [
    {
     "data": {
      "text/plain": [
       "[[]]"
      ]
     },
     "execution_count": 4,
     "metadata": {},
     "output_type": "execute_result"
    }
   ],
   "source": [
    "client.get_orders()"
   ]
  },
  {
   "cell_type": "code",
   "execution_count": 2,
   "metadata": {},
   "outputs": [
    {
     "data": {
      "text/plain": [
       "[{'available': '0',\n",
       "  'balance': '0.0000000000000000',\n",
       "  'currency': 'LTC',\n",
       "  'hold': '0.0000000000000000',\n",
       "  'id': '9e00f31d-9472-475e-9f1e-761f4fd32d97',\n",
       "  'profile_id': '80ad8180-e291-45ec-ade4-e2bbacaedfea'},\n",
       " {'available': '0',\n",
       "  'balance': '0.0000000000000000',\n",
       "  'currency': 'GBP',\n",
       "  'hold': '0.0000000000000000',\n",
       "  'id': '7c109669-450b-4f40-92a2-30cb6becb07d',\n",
       "  'profile_id': '80ad8180-e291-45ec-ade4-e2bbacaedfea'},\n",
       " {'available': '84.603465',\n",
       "  'balance': '84.6034650000000000',\n",
       "  'currency': 'EUR',\n",
       "  'hold': '0.0000000000000000',\n",
       "  'id': '3abf21d3-d448-41e8-9657-dc8c132d25df',\n",
       "  'profile_id': '80ad8180-e291-45ec-ade4-e2bbacaedfea'},\n",
       " {'available': '0',\n",
       "  'balance': '0.0000000000000000',\n",
       "  'currency': 'ETH',\n",
       "  'hold': '0.0000000000000000',\n",
       "  'id': '3f07c3fc-ad0b-4be0-97f5-a147460e5eb2',\n",
       "  'profile_id': '80ad8180-e291-45ec-ade4-e2bbacaedfea'},\n",
       " {'available': '0.0012',\n",
       "  'balance': '0.0012000000000000',\n",
       "  'currency': 'BTC',\n",
       "  'hold': '0.0000000000000000',\n",
       "  'id': '3e569968-1139-44dd-af2c-7ddf6e88ab66',\n",
       "  'profile_id': '80ad8180-e291-45ec-ade4-e2bbacaedfea'},\n",
       " {'available': '0',\n",
       "  'balance': '0.0000000000000000',\n",
       "  'currency': 'BCH',\n",
       "  'hold': '0.0000000000000000',\n",
       "  'id': 'd5f00c20-bb90-44aa-9389-ffca872ab933',\n",
       "  'profile_id': '80ad8180-e291-45ec-ade4-e2bbacaedfea'}]"
      ]
     },
     "execution_count": 2,
     "metadata": {},
     "output_type": "execute_result"
    }
   ],
   "source": [
    "client.get_accounts()"
   ]
  },
  {
   "cell_type": "code",
   "execution_count": 4,
   "metadata": {},
   "outputs": [
    {
     "data": {
      "text/plain": [
       "{'available': '90.05708',\n",
       " 'balance': '90.0570800000000000',\n",
       " 'currency': 'EUR',\n",
       " 'hold': '0.0000000000000000',\n",
       " 'id': '3abf21d3-d448-41e8-9657-dc8c132d25df',\n",
       " 'profile_id': '80ad8180-e291-45ec-ade4-e2bbacaedfea'}"
      ]
     },
     "execution_count": 4,
     "metadata": {},
     "output_type": "execute_result"
    }
   ],
   "source": [
    "client.get_account(\"3abf21d3-d448-41e8-9657-dc8c132d25df\")"
   ]
  },
  {
   "cell_type": "code",
   "execution_count": 28,
   "metadata": {},
   "outputs": [
    {
     "name": "stdout",
     "output_type": "stream",
     "text": [
      "0.0013\n"
     ]
    }
   ],
   "source": [
    "\n",
    "\n",
    "print(btc())\n"
   ]
  },
  {
   "cell_type": "code",
   "execution_count": 19,
   "metadata": {},
   "outputs": [
    {
     "name": "stdout",
     "output_type": "stream",
     "text": [
      "1.409999\n"
     ]
    }
   ],
   "source": [
    "\n",
    "\n",
    "print(min_purchase())\n",
    "    "
   ]
  },
  {
   "cell_type": "code",
   "execution_count": 22,
   "metadata": {},
   "outputs": [
    {
     "name": "stdout",
     "output_type": "stream",
     "text": [
      "{'id': 'c7e962a3-af1d-4c87-b971-91f9e473d53a', 'price': '14150.00000000', 'size': '0.00010000', 'product_id': 'BTC-EUR', 'side': 'buy', 'stp': 'dc', 'type': 'limit', 'time_in_force': 'GTT', 'expire_time': '2018-01-06T20:54:02.095', 'post_only': True, 'created_at': '2018-01-06T20:53:02.096166Z', 'fill_fees': '0.0000000000000000', 'filled_size': '0.00000000', 'executed_value': '0.0000000000000000', 'status': 'pending', 'settled': False}\n",
      "Not enough funds Available\n",
      "None\n"
     ]
    }
   ],
   "source": [
    "def eur():\n",
    "    account = client.get_account('3abf21d3-d448-41e8-9657-dc8c132d25df')\n",
    "    return round(float(account['available']) - 0.01, 2)\n",
    "\n",
    "def btc():\n",
    "    account = client.get_account('3e569968-1139-44dd-af2c-7ddf6e88ab66')\n",
    "    return round(float(account['available']) - 0.0001, 4)\n",
    "\n",
    "def min_purchase():\n",
    "    book = client.get_product_order_book('BTC-EUR')\n",
    "    ptb = round(float(book['asks'][0][0]) - 0.01, 2)\n",
    "    return ptb * 0.0001\n",
    "\n",
    "def buy(hold_back=0):\n",
    "    avail = eur() - hold_back\n",
    "    if avail < min_purchase():\n",
    "        print('Not enough funds Available')\n",
    "        return\n",
    "    book = client.get_product_order_book('BTC-EUR')\n",
    "    ptb = round(float(book['asks'][0][0]) - 0.01, 2)\n",
    "    amount = round(avail / ptb, 4)\n",
    "    return client.buy(price=str(ptb), \n",
    "           size=str(amount), \n",
    "           product_id='BTC-EUR', \n",
    "           post_only=True, \n",
    "           time_in_force='GTT', \n",
    "           cancel_after='min')\n",
    "\n",
    "def sell():\n",
    "    avail = btc()\n",
    "    if avail <= 0.0001:\n",
    "        print('Not enough funds Available')\n",
    "        return\n",
    "    book = client.get_product_order_book('BTC-EUR')\n",
    "    ptb = round(float(book['bids'][0][0]) + 0.01, 2)\n",
    "    return client.sell(price=str(ptb), \n",
    "           size=str(avail), \n",
    "           product_id='BTC-EUR', \n",
    "           post_only=True, \n",
    "           time_in_force='GTT', \n",
    "           cancel_after='min')\n",
    "    \n",
    "print(buy(hold_back=80))\n",
    "print(buy(hold_back=80))\n",
    "\n",
    "\n",
    "\n",
    "    "
   ]
  },
  {
   "cell_type": "code",
   "execution_count": 31,
   "metadata": {},
   "outputs": [
    {
     "name": "stdout",
     "output_type": "stream",
     "text": [
      "Not enough funds Available\n"
     ]
    }
   ],
   "source": [
    "\n",
    "\n",
    "sell()\n",
    "sell()"
   ]
  },
  {
   "cell_type": "code",
   "execution_count": 10,
   "metadata": {},
   "outputs": [
    {
     "name": "stdout",
     "output_type": "stream",
     "text": [
      "Order placed\n",
      "{'id': 'd5e40843-68f6-4246-b3f6-0147843238d3', 'price': '14070.03000000', 'size': '0.00010000', 'product_id': 'BTC-EUR', 'side': 'buy', 'stp': 'dc', 'type': 'limit', 'time_in_force': 'GTT', 'expire_time': '2018-01-06T20:41:26.016', 'post_only': True, 'created_at': '2018-01-06T20:40:26.016643Z', 'fill_fees': '0.0000000000000000', 'filled_size': '0.00000000', 'executed_value': '0.0000000000000000', 'status': 'pending', 'settled': False}\n",
      "{'id': 'd5e40843-68f6-4246-b3f6-0147843238d3', 'price': '14070.03000000', 'size': '0.00010000', 'product_id': 'BTC-EUR', 'side': 'buy', 'stp': 'dc', 'type': 'limit', 'time_in_force': 'GTT', 'expire_time': '2018-01-06T20:41:26.016', 'post_only': True, 'created_at': '2018-01-06T20:40:26.016643Z', 'fill_fees': '0.0000000000000000', 'filled_size': '0.00000000', 'executed_value': '0.0000000000000000', 'status': 'open', 'settled': False}\n",
      "{'id': 'd5e40843-68f6-4246-b3f6-0147843238d3', 'price': '14070.03000000', 'size': '0.00010000', 'product_id': 'BTC-EUR', 'side': 'buy', 'stp': 'dc', 'type': 'limit', 'time_in_force': 'GTT', 'expire_time': '2018-01-06T20:41:26.016', 'post_only': True, 'created_at': '2018-01-06T20:40:26.016643Z', 'fill_fees': '0.0000000000000000', 'filled_size': '0.00000000', 'executed_value': '0.0000000000000000', 'status': 'open', 'settled': False}\n",
      "{'id': 'd5e40843-68f6-4246-b3f6-0147843238d3', 'price': '14070.03000000', 'size': '0.00010000', 'product_id': 'BTC-EUR', 'side': 'buy', 'stp': 'dc', 'type': 'limit', 'time_in_force': 'GTT', 'expire_time': '2018-01-06T20:41:26.016', 'post_only': True, 'created_at': '2018-01-06T20:40:26.016643Z', 'fill_fees': '0.0000000000000000', 'filled_size': '0.00000000', 'executed_value': '0.0000000000000000', 'status': 'open', 'settled': False}\n",
      "{'id': 'd5e40843-68f6-4246-b3f6-0147843238d3', 'price': '14070.03000000', 'size': '0.00010000', 'product_id': 'BTC-EUR', 'side': 'buy', 'stp': 'dc', 'type': 'limit', 'time_in_force': 'GTT', 'expire_time': '2018-01-06T20:41:26.016', 'post_only': True, 'created_at': '2018-01-06T20:40:26.016643Z', 'fill_fees': '0.0000000000000000', 'filled_size': '0.00000000', 'executed_value': '0.0000000000000000', 'status': 'open', 'settled': False}\n",
      "{'id': 'd5e40843-68f6-4246-b3f6-0147843238d3', 'price': '14070.03000000', 'size': '0.00010000', 'product_id': 'BTC-EUR', 'side': 'buy', 'stp': 'dc', 'type': 'limit', 'time_in_force': 'GTT', 'expire_time': '2018-01-06T20:41:26.016', 'post_only': True, 'created_at': '2018-01-06T20:40:26.016643Z', 'fill_fees': '0.0000000000000000', 'filled_size': '0.00000000', 'executed_value': '0.0000000000000000', 'status': 'open', 'settled': False}\n",
      "{'id': 'd5e40843-68f6-4246-b3f6-0147843238d3', 'price': '14070.03000000', 'size': '0.00010000', 'product_id': 'BTC-EUR', 'side': 'buy', 'stp': 'dc', 'type': 'limit', 'time_in_force': 'GTT', 'expire_time': '2018-01-06T20:41:26.016', 'post_only': True, 'created_at': '2018-01-06T20:40:26.016643Z', 'fill_fees': '0.0000000000000000', 'filled_size': '0.00000000', 'executed_value': '0.0000000000000000', 'status': 'open', 'settled': False}\n",
      "{'id': 'd5e40843-68f6-4246-b3f6-0147843238d3', 'price': '14070.03000000', 'size': '0.00010000', 'product_id': 'BTC-EUR', 'side': 'buy', 'stp': 'dc', 'type': 'limit', 'time_in_force': 'GTT', 'expire_time': '2018-01-06T20:41:26.016', 'post_only': True, 'created_at': '2018-01-06T20:40:26.016643Z', 'fill_fees': '0.0000000000000000', 'filled_size': '0.00000000', 'executed_value': '0.0000000000000000', 'status': 'open', 'settled': False}\n",
      "{'id': 'd5e40843-68f6-4246-b3f6-0147843238d3', 'price': '14070.03000000', 'size': '0.00010000', 'product_id': 'BTC-EUR', 'side': 'buy', 'stp': 'dc', 'type': 'limit', 'time_in_force': 'GTT', 'expire_time': '2018-01-06T20:41:26.016', 'post_only': True, 'created_at': '2018-01-06T20:40:26.016643Z', 'fill_fees': '0.0000000000000000', 'filled_size': '0.00000000', 'executed_value': '0.0000000000000000', 'status': 'open', 'settled': False}\n",
      "{'id': 'd5e40843-68f6-4246-b3f6-0147843238d3', 'price': '14070.03000000', 'size': '0.00010000', 'product_id': 'BTC-EUR', 'side': 'buy', 'stp': 'dc', 'type': 'limit', 'time_in_force': 'GTT', 'expire_time': '2018-01-06T20:41:26.016', 'post_only': True, 'created_at': '2018-01-06T20:40:26.016643Z', 'fill_fees': '0.0000000000000000', 'filled_size': '0.00000000', 'executed_value': '0.0000000000000000', 'status': 'open', 'settled': False}\n",
      "{'id': 'd5e40843-68f6-4246-b3f6-0147843238d3', 'price': '14070.03000000', 'size': '0.00010000', 'product_id': 'BTC-EUR', 'side': 'buy', 'stp': 'dc', 'type': 'limit', 'time_in_force': 'GTT', 'expire_time': '2018-01-06T20:41:26.016', 'post_only': True, 'created_at': '2018-01-06T20:40:26.016643Z', 'fill_fees': '0.0000000000000000', 'filled_size': '0.00000000', 'executed_value': '0.0000000000000000', 'status': 'open', 'settled': False}\n",
      "{'id': 'd5e40843-68f6-4246-b3f6-0147843238d3', 'price': '14070.03000000', 'size': '0.00010000', 'product_id': 'BTC-EUR', 'side': 'buy', 'stp': 'dc', 'type': 'limit', 'time_in_force': 'GTT', 'expire_time': '2018-01-06T20:41:26.016', 'post_only': True, 'created_at': '2018-01-06T20:40:26.016643Z', 'fill_fees': '0.0000000000000000', 'filled_size': '0.00000000', 'executed_value': '0.0000000000000000', 'status': 'open', 'settled': False}\n",
      "{'id': 'd5e40843-68f6-4246-b3f6-0147843238d3', 'price': '14070.03000000', 'size': '0.00010000', 'product_id': 'BTC-EUR', 'side': 'buy', 'stp': 'dc', 'type': 'limit', 'time_in_force': 'GTT', 'expire_time': '2018-01-06T20:41:26.016', 'post_only': True, 'created_at': '2018-01-06T20:40:26.016643Z', 'fill_fees': '0.0000000000000000', 'filled_size': '0.00000000', 'executed_value': '0.0000000000000000', 'status': 'open', 'settled': False}\n",
      "{'id': 'd5e40843-68f6-4246-b3f6-0147843238d3', 'price': '14070.03000000', 'size': '0.00010000', 'product_id': 'BTC-EUR', 'side': 'buy', 'stp': 'dc', 'type': 'limit', 'time_in_force': 'GTT', 'expire_time': '2018-01-06T20:41:26.016', 'post_only': True, 'created_at': '2018-01-06T20:40:26.016643Z', 'fill_fees': '0.0000000000000000', 'filled_size': '0.00000000', 'executed_value': '0.0000000000000000', 'status': 'open', 'settled': False}\n",
      "{'id': 'd5e40843-68f6-4246-b3f6-0147843238d3', 'price': '14070.03000000', 'size': '0.00010000', 'product_id': 'BTC-EUR', 'side': 'buy', 'stp': 'dc', 'type': 'limit', 'time_in_force': 'GTT', 'expire_time': '2018-01-06T20:41:26.016', 'post_only': True, 'created_at': '2018-01-06T20:40:26.016643Z', 'fill_fees': '0.0000000000000000', 'filled_size': '0.00000000', 'executed_value': '0.0000000000000000', 'status': 'open', 'settled': False}\n",
      "{'id': 'd5e40843-68f6-4246-b3f6-0147843238d3', 'price': '14070.03000000', 'size': '0.00010000', 'product_id': 'BTC-EUR', 'side': 'buy', 'stp': 'dc', 'type': 'limit', 'time_in_force': 'GTT', 'expire_time': '2018-01-06T20:41:26.016', 'post_only': True, 'created_at': '2018-01-06T20:40:26.016643Z', 'fill_fees': '0.0000000000000000', 'filled_size': '0.00000000', 'executed_value': '0.0000000000000000', 'status': 'open', 'settled': False}\n",
      "{'id': 'd5e40843-68f6-4246-b3f6-0147843238d3', 'price': '14070.03000000', 'size': '0.00010000', 'product_id': 'BTC-EUR', 'side': 'buy', 'stp': 'dc', 'type': 'limit', 'time_in_force': 'GTT', 'expire_time': '2018-01-06T20:41:26.016', 'post_only': True, 'created_at': '2018-01-06T20:40:26.016643Z', 'fill_fees': '0.0000000000000000', 'filled_size': '0.00000000', 'executed_value': '0.0000000000000000', 'status': 'open', 'settled': False}\n",
      "{'id': 'd5e40843-68f6-4246-b3f6-0147843238d3', 'price': '14070.03000000', 'size': '0.00010000', 'product_id': 'BTC-EUR', 'side': 'buy', 'stp': 'dc', 'type': 'limit', 'time_in_force': 'GTT', 'expire_time': '2018-01-06T20:41:26.016', 'post_only': True, 'created_at': '2018-01-06T20:40:26.016643Z', 'fill_fees': '0.0000000000000000', 'filled_size': '0.00000000', 'executed_value': '0.0000000000000000', 'status': 'open', 'settled': False}\n",
      "{'id': 'd5e40843-68f6-4246-b3f6-0147843238d3', 'price': '14070.03000000', 'size': '0.00010000', 'product_id': 'BTC-EUR', 'side': 'buy', 'stp': 'dc', 'type': 'limit', 'time_in_force': 'GTT', 'expire_time': '2018-01-06T20:41:26.016', 'post_only': True, 'created_at': '2018-01-06T20:40:26.016643Z', 'fill_fees': '0.0000000000000000', 'filled_size': '0.00000000', 'executed_value': '0.0000000000000000', 'status': 'open', 'settled': False}\n"
     ]
    },
    {
     "name": "stdout",
     "output_type": "stream",
     "text": [
      "{'id': 'd5e40843-68f6-4246-b3f6-0147843238d3', 'price': '14070.03000000', 'size': '0.00010000', 'product_id': 'BTC-EUR', 'side': 'buy', 'stp': 'dc', 'type': 'limit', 'time_in_force': 'GTT', 'expire_time': '2018-01-06T20:41:26.016', 'post_only': True, 'created_at': '2018-01-06T20:40:26.016643Z', 'fill_fees': '0.0000000000000000', 'filled_size': '0.00000000', 'executed_value': '0.0000000000000000', 'status': 'open', 'settled': False}\n",
      "{'id': 'd5e40843-68f6-4246-b3f6-0147843238d3', 'price': '14070.03000000', 'size': '0.00010000', 'product_id': 'BTC-EUR', 'side': 'buy', 'stp': 'dc', 'type': 'limit', 'time_in_force': 'GTT', 'expire_time': '2018-01-06T20:41:26.016', 'post_only': True, 'created_at': '2018-01-06T20:40:26.016643Z', 'fill_fees': '0.0000000000000000', 'filled_size': '0.00000000', 'executed_value': '0.0000000000000000', 'status': 'open', 'settled': False}\n",
      "{'id': 'd5e40843-68f6-4246-b3f6-0147843238d3', 'price': '14070.03000000', 'size': '0.00010000', 'product_id': 'BTC-EUR', 'side': 'buy', 'stp': 'dc', 'type': 'limit', 'time_in_force': 'GTT', 'expire_time': '2018-01-06T20:41:26.016', 'post_only': True, 'created_at': '2018-01-06T20:40:26.016643Z', 'fill_fees': '0.0000000000000000', 'filled_size': '0.00000000', 'executed_value': '0.0000000000000000', 'status': 'open', 'settled': False}\n",
      "{'id': 'd5e40843-68f6-4246-b3f6-0147843238d3', 'price': '14070.03000000', 'size': '0.00010000', 'product_id': 'BTC-EUR', 'side': 'buy', 'stp': 'dc', 'type': 'limit', 'time_in_force': 'GTT', 'expire_time': '2018-01-06T20:41:26.016', 'post_only': True, 'created_at': '2018-01-06T20:40:26.016643Z', 'fill_fees': '0.0000000000000000', 'filled_size': '0.00000000', 'executed_value': '0.0000000000000000', 'status': 'open', 'settled': False}\n",
      "{'id': 'd5e40843-68f6-4246-b3f6-0147843238d3', 'price': '14070.03000000', 'size': '0.00010000', 'product_id': 'BTC-EUR', 'side': 'buy', 'stp': 'dc', 'type': 'limit', 'time_in_force': 'GTT', 'expire_time': '2018-01-06T20:41:26.016', 'post_only': True, 'created_at': '2018-01-06T20:40:26.016643Z', 'fill_fees': '0.0000000000000000', 'filled_size': '0.00000000', 'executed_value': '0.0000000000000000', 'status': 'open', 'settled': False}\n",
      "{'id': 'd5e40843-68f6-4246-b3f6-0147843238d3', 'price': '14070.03000000', 'size': '0.00010000', 'product_id': 'BTC-EUR', 'side': 'buy', 'stp': 'dc', 'type': 'limit', 'time_in_force': 'GTT', 'expire_time': '2018-01-06T20:41:26.016', 'post_only': True, 'created_at': '2018-01-06T20:40:26.016643Z', 'fill_fees': '0.0000000000000000', 'filled_size': '0.00000000', 'executed_value': '0.0000000000000000', 'status': 'open', 'settled': False}\n",
      "{'id': 'd5e40843-68f6-4246-b3f6-0147843238d3', 'price': '14070.03000000', 'size': '0.00010000', 'product_id': 'BTC-EUR', 'side': 'buy', 'stp': 'dc', 'type': 'limit', 'time_in_force': 'GTT', 'expire_time': '2018-01-06T20:41:26.016', 'post_only': True, 'created_at': '2018-01-06T20:40:26.016643Z', 'fill_fees': '0.0000000000000000', 'filled_size': '0.00000000', 'executed_value': '0.0000000000000000', 'status': 'open', 'settled': False}\n",
      "{'id': 'd5e40843-68f6-4246-b3f6-0147843238d3', 'price': '14070.03000000', 'size': '0.00010000', 'product_id': 'BTC-EUR', 'side': 'buy', 'stp': 'dc', 'type': 'limit', 'time_in_force': 'GTT', 'expire_time': '2018-01-06T20:41:26.016', 'post_only': True, 'created_at': '2018-01-06T20:40:26.016643Z', 'fill_fees': '0.0000000000000000', 'filled_size': '0.00000000', 'executed_value': '0.0000000000000000', 'status': 'open', 'settled': False}\n",
      "{'id': 'd5e40843-68f6-4246-b3f6-0147843238d3', 'price': '14070.03000000', 'size': '0.00010000', 'product_id': 'BTC-EUR', 'side': 'buy', 'stp': 'dc', 'type': 'limit', 'time_in_force': 'GTT', 'expire_time': '2018-01-06T20:41:26.016', 'post_only': True, 'created_at': '2018-01-06T20:40:26.016643Z', 'fill_fees': '0.0000000000000000', 'filled_size': '0.00000000', 'executed_value': '0.0000000000000000', 'status': 'open', 'settled': False}\n",
      "{'id': 'd5e40843-68f6-4246-b3f6-0147843238d3', 'price': '14070.03000000', 'size': '0.00010000', 'product_id': 'BTC-EUR', 'side': 'buy', 'stp': 'dc', 'type': 'limit', 'time_in_force': 'GTT', 'expire_time': '2018-01-06T20:41:26.016', 'post_only': True, 'created_at': '2018-01-06T20:40:26.016643Z', 'fill_fees': '0.0000000000000000', 'filled_size': '0.00000000', 'executed_value': '0.0000000000000000', 'status': 'open', 'settled': False}\n",
      "{'id': 'd5e40843-68f6-4246-b3f6-0147843238d3', 'price': '14070.03000000', 'size': '0.00010000', 'product_id': 'BTC-EUR', 'side': 'buy', 'stp': 'dc', 'type': 'limit', 'time_in_force': 'GTT', 'expire_time': '2018-01-06T20:41:26.016', 'post_only': True, 'created_at': '2018-01-06T20:40:26.016643Z', 'fill_fees': '0.0000000000000000', 'filled_size': '0.00000000', 'executed_value': '0.0000000000000000', 'status': 'open', 'settled': False}\n",
      "{'id': 'd5e40843-68f6-4246-b3f6-0147843238d3', 'price': '14070.03000000', 'size': '0.00010000', 'product_id': 'BTC-EUR', 'side': 'buy', 'stp': 'dc', 'type': 'limit', 'time_in_force': 'GTT', 'expire_time': '2018-01-06T20:41:26.016', 'post_only': True, 'created_at': '2018-01-06T20:40:26.016643Z', 'fill_fees': '0.0000000000000000', 'filled_size': '0.00000000', 'executed_value': '0.0000000000000000', 'status': 'open', 'settled': False}\n",
      "{'id': 'd5e40843-68f6-4246-b3f6-0147843238d3', 'price': '14070.03000000', 'size': '0.00010000', 'product_id': 'BTC-EUR', 'side': 'buy', 'stp': 'dc', 'type': 'limit', 'time_in_force': 'GTT', 'expire_time': '2018-01-06T20:41:26.016', 'post_only': True, 'created_at': '2018-01-06T20:40:26.016643Z', 'fill_fees': '0.0000000000000000', 'filled_size': '0.00000000', 'executed_value': '0.0000000000000000', 'status': 'open', 'settled': False}\n",
      "{'id': 'd5e40843-68f6-4246-b3f6-0147843238d3', 'price': '14070.03000000', 'size': '0.00010000', 'product_id': 'BTC-EUR', 'side': 'buy', 'stp': 'dc', 'type': 'limit', 'time_in_force': 'GTT', 'expire_time': '2018-01-06T20:41:26.016', 'post_only': True, 'created_at': '2018-01-06T20:40:26.016643Z', 'fill_fees': '0.0000000000000000', 'filled_size': '0.00000000', 'executed_value': '0.0000000000000000', 'status': 'open', 'settled': False}\n",
      "{'id': 'd5e40843-68f6-4246-b3f6-0147843238d3', 'price': '14070.03000000', 'size': '0.00010000', 'product_id': 'BTC-EUR', 'side': 'buy', 'stp': 'dc', 'type': 'limit', 'time_in_force': 'GTT', 'expire_time': '2018-01-06T20:41:26.016', 'post_only': True, 'created_at': '2018-01-06T20:40:26.016643Z', 'fill_fees': '0.0000000000000000', 'filled_size': '0.00000000', 'executed_value': '0.0000000000000000', 'status': 'open', 'settled': False}\n",
      "{'id': 'd5e40843-68f6-4246-b3f6-0147843238d3', 'price': '14070.03000000', 'size': '0.00010000', 'product_id': 'BTC-EUR', 'side': 'buy', 'stp': 'dc', 'type': 'limit', 'time_in_force': 'GTT', 'expire_time': '2018-01-06T20:41:26.016', 'post_only': True, 'created_at': '2018-01-06T20:40:26.016643Z', 'fill_fees': '0.0000000000000000', 'filled_size': '0.00000000', 'executed_value': '0.0000000000000000', 'status': 'open', 'settled': False}\n",
      "{'id': 'd5e40843-68f6-4246-b3f6-0147843238d3', 'price': '14070.03000000', 'size': '0.00010000', 'product_id': 'BTC-EUR', 'side': 'buy', 'stp': 'dc', 'type': 'limit', 'time_in_force': 'GTT', 'expire_time': '2018-01-06T20:41:26.016', 'post_only': True, 'created_at': '2018-01-06T20:40:26.016643Z', 'fill_fees': '0.0000000000000000', 'filled_size': '0.00000000', 'executed_value': '0.0000000000000000', 'status': 'open', 'settled': False}\n",
      "{'id': 'd5e40843-68f6-4246-b3f6-0147843238d3', 'price': '14070.03000000', 'size': '0.00010000', 'product_id': 'BTC-EUR', 'side': 'buy', 'stp': 'dc', 'type': 'limit', 'time_in_force': 'GTT', 'expire_time': '2018-01-06T20:41:26.016', 'post_only': True, 'created_at': '2018-01-06T20:40:26.016643Z', 'fill_fees': '0.0000000000000000', 'filled_size': '0.00000000', 'executed_value': '0.0000000000000000', 'status': 'open', 'settled': False}\n",
      "{'id': 'd5e40843-68f6-4246-b3f6-0147843238d3', 'price': '14070.03000000', 'size': '0.00010000', 'product_id': 'BTC-EUR', 'side': 'buy', 'stp': 'dc', 'type': 'limit', 'time_in_force': 'GTT', 'expire_time': '2018-01-06T20:41:26.016', 'post_only': True, 'created_at': '2018-01-06T20:40:26.016643Z', 'fill_fees': '0.0000000000000000', 'filled_size': '0.00000000', 'executed_value': '0.0000000000000000', 'status': 'open', 'settled': False}\n",
      "{'id': 'd5e40843-68f6-4246-b3f6-0147843238d3', 'price': '14070.03000000', 'size': '0.00010000', 'product_id': 'BTC-EUR', 'side': 'buy', 'stp': 'dc', 'type': 'limit', 'time_in_force': 'GTT', 'expire_time': '2018-01-06T20:41:26.016', 'post_only': True, 'created_at': '2018-01-06T20:40:26.016643Z', 'fill_fees': '0.0000000000000000', 'filled_size': '0.00000000', 'executed_value': '0.0000000000000000', 'status': 'open', 'settled': False}\n"
     ]
    },
    {
     "name": "stdout",
     "output_type": "stream",
     "text": [
      "{'id': 'd5e40843-68f6-4246-b3f6-0147843238d3', 'price': '14070.03000000', 'size': '0.00010000', 'product_id': 'BTC-EUR', 'side': 'buy', 'stp': 'dc', 'type': 'limit', 'time_in_force': 'GTT', 'expire_time': '2018-01-06T20:41:26.016', 'post_only': True, 'created_at': '2018-01-06T20:40:26.016643Z', 'fill_fees': '0.0000000000000000', 'filled_size': '0.00000000', 'executed_value': '0.0000000000000000', 'status': 'open', 'settled': False}\n",
      "{'id': 'd5e40843-68f6-4246-b3f6-0147843238d3', 'price': '14070.03000000', 'size': '0.00010000', 'product_id': 'BTC-EUR', 'side': 'buy', 'stp': 'dc', 'type': 'limit', 'time_in_force': 'GTT', 'expire_time': '2018-01-06T20:41:26.016', 'post_only': True, 'created_at': '2018-01-06T20:40:26.016643Z', 'fill_fees': '0.0000000000000000', 'filled_size': '0.00000000', 'executed_value': '0.0000000000000000', 'status': 'open', 'settled': False}\n",
      "{'id': 'd5e40843-68f6-4246-b3f6-0147843238d3', 'price': '14070.03000000', 'size': '0.00010000', 'product_id': 'BTC-EUR', 'side': 'buy', 'stp': 'dc', 'type': 'limit', 'time_in_force': 'GTT', 'expire_time': '2018-01-06T20:41:26.016', 'post_only': True, 'created_at': '2018-01-06T20:40:26.016643Z', 'fill_fees': '0.0000000000000000', 'filled_size': '0.00000000', 'executed_value': '0.0000000000000000', 'status': 'open', 'settled': False}\n",
      "{'id': 'd5e40843-68f6-4246-b3f6-0147843238d3', 'price': '14070.03000000', 'size': '0.00010000', 'product_id': 'BTC-EUR', 'side': 'buy', 'stp': 'dc', 'type': 'limit', 'time_in_force': 'GTT', 'expire_time': '2018-01-06T20:41:26.016', 'post_only': True, 'created_at': '2018-01-06T20:40:26.016643Z', 'fill_fees': '0.0000000000000000', 'filled_size': '0.00000000', 'executed_value': '0.0000000000000000', 'status': 'open', 'settled': False}\n",
      "{'id': 'd5e40843-68f6-4246-b3f6-0147843238d3', 'price': '14070.03000000', 'size': '0.00010000', 'product_id': 'BTC-EUR', 'side': 'buy', 'stp': 'dc', 'type': 'limit', 'time_in_force': 'GTT', 'expire_time': '2018-01-06T20:41:26.016', 'post_only': True, 'created_at': '2018-01-06T20:40:26.016643Z', 'fill_fees': '0.0000000000000000', 'filled_size': '0.00000000', 'executed_value': '0.0000000000000000', 'status': 'open', 'settled': False}\n",
      "{'id': 'd5e40843-68f6-4246-b3f6-0147843238d3', 'price': '14070.03000000', 'size': '0.00010000', 'product_id': 'BTC-EUR', 'side': 'buy', 'stp': 'dc', 'type': 'limit', 'time_in_force': 'GTT', 'expire_time': '2018-01-06T20:41:26.016', 'post_only': True, 'created_at': '2018-01-06T20:40:26.016643Z', 'fill_fees': '0.0000000000000000', 'filled_size': '0.00000000', 'executed_value': '0.0000000000000000', 'status': 'open', 'settled': False}\n",
      "{'id': 'd5e40843-68f6-4246-b3f6-0147843238d3', 'price': '14070.03000000', 'size': '0.00010000', 'product_id': 'BTC-EUR', 'side': 'buy', 'stp': 'dc', 'type': 'limit', 'time_in_force': 'GTT', 'expire_time': '2018-01-06T20:41:26.016', 'post_only': True, 'created_at': '2018-01-06T20:40:26.016643Z', 'fill_fees': '0.0000000000000000', 'filled_size': '0.00000000', 'executed_value': '0.0000000000000000', 'status': 'open', 'settled': False}\n",
      "{'id': 'd5e40843-68f6-4246-b3f6-0147843238d3', 'price': '14070.03000000', 'size': '0.00010000', 'product_id': 'BTC-EUR', 'side': 'buy', 'stp': 'dc', 'type': 'limit', 'time_in_force': 'GTT', 'expire_time': '2018-01-06T20:41:26.016', 'post_only': True, 'created_at': '2018-01-06T20:40:26.016643Z', 'fill_fees': '0.0000000000000000', 'filled_size': '0.00000000', 'executed_value': '0.0000000000000000', 'status': 'open', 'settled': False}\n",
      "{'id': 'd5e40843-68f6-4246-b3f6-0147843238d3', 'price': '14070.03000000', 'size': '0.00010000', 'product_id': 'BTC-EUR', 'side': 'buy', 'stp': 'dc', 'type': 'limit', 'time_in_force': 'GTT', 'expire_time': '2018-01-06T20:41:26.016', 'post_only': True, 'created_at': '2018-01-06T20:40:26.016643Z', 'fill_fees': '0.0000000000000000', 'filled_size': '0.00000000', 'executed_value': '0.0000000000000000', 'status': 'open', 'settled': False}\n",
      "{'id': 'd5e40843-68f6-4246-b3f6-0147843238d3', 'price': '14070.03000000', 'size': '0.00010000', 'product_id': 'BTC-EUR', 'side': 'buy', 'stp': 'dc', 'type': 'limit', 'time_in_force': 'GTT', 'expire_time': '2018-01-06T20:41:26.016', 'post_only': True, 'created_at': '2018-01-06T20:40:26.016643Z', 'fill_fees': '0.0000000000000000', 'filled_size': '0.00000000', 'executed_value': '0.0000000000000000', 'status': 'open', 'settled': False}\n",
      "{'id': 'd5e40843-68f6-4246-b3f6-0147843238d3', 'price': '14070.03000000', 'size': '0.00010000', 'product_id': 'BTC-EUR', 'side': 'buy', 'stp': 'dc', 'type': 'limit', 'time_in_force': 'GTT', 'expire_time': '2018-01-06T20:41:26.016', 'post_only': True, 'created_at': '2018-01-06T20:40:26.016643Z', 'fill_fees': '0.0000000000000000', 'filled_size': '0.00000000', 'executed_value': '0.0000000000000000', 'status': 'open', 'settled': False}\n",
      "{'id': 'd5e40843-68f6-4246-b3f6-0147843238d3', 'price': '14070.03000000', 'size': '0.00010000', 'product_id': 'BTC-EUR', 'side': 'buy', 'stp': 'dc', 'type': 'limit', 'time_in_force': 'GTT', 'expire_time': '2018-01-06T20:41:26.016', 'post_only': True, 'created_at': '2018-01-06T20:40:26.016643Z', 'fill_fees': '0.0000000000000000', 'filled_size': '0.00000000', 'executed_value': '0.0000000000000000', 'status': 'open', 'settled': False}\n",
      "{'id': 'd5e40843-68f6-4246-b3f6-0147843238d3', 'price': '14070.03000000', 'size': '0.00010000', 'product_id': 'BTC-EUR', 'side': 'buy', 'stp': 'dc', 'type': 'limit', 'time_in_force': 'GTT', 'expire_time': '2018-01-06T20:41:26.016', 'post_only': True, 'created_at': '2018-01-06T20:40:26.016643Z', 'fill_fees': '0.0000000000000000', 'filled_size': '0.00000000', 'executed_value': '0.0000000000000000', 'status': 'open', 'settled': False}\n",
      "{'id': 'd5e40843-68f6-4246-b3f6-0147843238d3', 'price': '14070.03000000', 'size': '0.00010000', 'product_id': 'BTC-EUR', 'side': 'buy', 'stp': 'dc', 'type': 'limit', 'time_in_force': 'GTT', 'expire_time': '2018-01-06T20:41:26.016', 'post_only': True, 'created_at': '2018-01-06T20:40:26.016643Z', 'fill_fees': '0.0000000000000000', 'filled_size': '0.00000000', 'executed_value': '0.0000000000000000', 'status': 'open', 'settled': False}\n",
      "{'id': 'd5e40843-68f6-4246-b3f6-0147843238d3', 'price': '14070.03000000', 'size': '0.00010000', 'product_id': 'BTC-EUR', 'side': 'buy', 'stp': 'dc', 'type': 'limit', 'time_in_force': 'GTT', 'expire_time': '2018-01-06T20:41:26.016', 'post_only': True, 'created_at': '2018-01-06T20:40:26.016643Z', 'fill_fees': '0.0000000000000000', 'filled_size': '0.00000000', 'executed_value': '0.0000000000000000', 'status': 'open', 'settled': False}\n",
      "{'id': 'd5e40843-68f6-4246-b3f6-0147843238d3', 'price': '14070.03000000', 'size': '0.00010000', 'product_id': 'BTC-EUR', 'side': 'buy', 'stp': 'dc', 'type': 'limit', 'time_in_force': 'GTT', 'expire_time': '2018-01-06T20:41:26.016', 'post_only': True, 'created_at': '2018-01-06T20:40:26.016643Z', 'fill_fees': '0.0000000000000000', 'filled_size': '0.00000000', 'executed_value': '0.0000000000000000', 'status': 'open', 'settled': False}\n",
      "{'id': 'd5e40843-68f6-4246-b3f6-0147843238d3', 'price': '14070.03000000', 'size': '0.00010000', 'product_id': 'BTC-EUR', 'side': 'buy', 'stp': 'dc', 'type': 'limit', 'time_in_force': 'GTT', 'expire_time': '2018-01-06T20:41:26.016', 'post_only': True, 'created_at': '2018-01-06T20:40:26.016643Z', 'fill_fees': '0.0000000000000000', 'filled_size': '0.00000000', 'executed_value': '0.0000000000000000', 'status': 'open', 'settled': False}\n",
      "{'id': 'd5e40843-68f6-4246-b3f6-0147843238d3', 'price': '14070.03000000', 'size': '0.00010000', 'product_id': 'BTC-EUR', 'side': 'buy', 'stp': 'dc', 'type': 'limit', 'time_in_force': 'GTT', 'expire_time': '2018-01-06T20:41:26.016', 'post_only': True, 'created_at': '2018-01-06T20:40:26.016643Z', 'fill_fees': '0.0000000000000000', 'filled_size': '0.00000000', 'executed_value': '0.0000000000000000', 'status': 'open', 'settled': False}\n",
      "{'id': 'd5e40843-68f6-4246-b3f6-0147843238d3', 'price': '14070.03000000', 'size': '0.00010000', 'product_id': 'BTC-EUR', 'side': 'buy', 'stp': 'dc', 'type': 'limit', 'time_in_force': 'GTT', 'expire_time': '2018-01-06T20:41:26.016', 'post_only': True, 'created_at': '2018-01-06T20:40:26.016643Z', 'fill_fees': '0.0000000000000000', 'filled_size': '0.00000000', 'executed_value': '0.0000000000000000', 'status': 'open', 'settled': False}\n",
      "{'id': 'd5e40843-68f6-4246-b3f6-0147843238d3', 'price': '14070.03000000', 'size': '0.00010000', 'product_id': 'BTC-EUR', 'side': 'buy', 'stp': 'dc', 'type': 'limit', 'time_in_force': 'GTT', 'expire_time': '2018-01-06T20:41:26.016', 'post_only': True, 'created_at': '2018-01-06T20:40:26.016643Z', 'fill_fees': '0.0000000000000000', 'filled_size': '0.00000000', 'executed_value': '0.0000000000000000', 'status': 'open', 'settled': False}\n"
     ]
    },
    {
     "name": "stdout",
     "output_type": "stream",
     "text": [
      "{'id': 'd5e40843-68f6-4246-b3f6-0147843238d3', 'price': '14070.03000000', 'size': '0.00010000', 'product_id': 'BTC-EUR', 'side': 'buy', 'stp': 'dc', 'type': 'limit', 'time_in_force': 'GTT', 'expire_time': '2018-01-06T20:41:26.016', 'post_only': True, 'created_at': '2018-01-06T20:40:26.016643Z', 'fill_fees': '0.0000000000000000', 'filled_size': '0.00000000', 'executed_value': '0.0000000000000000', 'status': 'open', 'settled': False}\n",
      "{'id': 'd5e40843-68f6-4246-b3f6-0147843238d3', 'price': '14070.03000000', 'size': '0.00010000', 'product_id': 'BTC-EUR', 'side': 'buy', 'stp': 'dc', 'type': 'limit', 'time_in_force': 'GTT', 'expire_time': '2018-01-06T20:41:26.016', 'post_only': True, 'created_at': '2018-01-06T20:40:26.016643Z', 'fill_fees': '0.0000000000000000', 'filled_size': '0.00000000', 'executed_value': '0.0000000000000000', 'status': 'open', 'settled': False}\n",
      "{'id': 'd5e40843-68f6-4246-b3f6-0147843238d3', 'price': '14070.03000000', 'size': '0.00010000', 'product_id': 'BTC-EUR', 'side': 'buy', 'stp': 'dc', 'type': 'limit', 'time_in_force': 'GTT', 'expire_time': '2018-01-06T20:41:26.016', 'post_only': True, 'created_at': '2018-01-06T20:40:26.016643Z', 'fill_fees': '0.0000000000000000', 'filled_size': '0.00000000', 'executed_value': '0.0000000000000000', 'status': 'open', 'settled': False}\n",
      "{'id': 'd5e40843-68f6-4246-b3f6-0147843238d3', 'price': '14070.03000000', 'size': '0.00010000', 'product_id': 'BTC-EUR', 'side': 'buy', 'stp': 'dc', 'type': 'limit', 'time_in_force': 'GTT', 'expire_time': '2018-01-06T20:41:26.016', 'post_only': True, 'created_at': '2018-01-06T20:40:26.016643Z', 'fill_fees': '0.0000000000000000', 'filled_size': '0.00000000', 'executed_value': '0.0000000000000000', 'status': 'open', 'settled': False}\n",
      "{'id': 'd5e40843-68f6-4246-b3f6-0147843238d3', 'price': '14070.03000000', 'size': '0.00010000', 'product_id': 'BTC-EUR', 'side': 'buy', 'stp': 'dc', 'type': 'limit', 'time_in_force': 'GTT', 'expire_time': '2018-01-06T20:41:26.016', 'post_only': True, 'created_at': '2018-01-06T20:40:26.016643Z', 'fill_fees': '0.0000000000000000', 'filled_size': '0.00000000', 'executed_value': '0.0000000000000000', 'status': 'open', 'settled': False}\n",
      "{'id': 'd5e40843-68f6-4246-b3f6-0147843238d3', 'price': '14070.03000000', 'size': '0.00010000', 'product_id': 'BTC-EUR', 'side': 'buy', 'stp': 'dc', 'type': 'limit', 'time_in_force': 'GTT', 'expire_time': '2018-01-06T20:41:26.016', 'post_only': True, 'created_at': '2018-01-06T20:40:26.016643Z', 'fill_fees': '0.0000000000000000', 'filled_size': '0.00000000', 'executed_value': '0.0000000000000000', 'status': 'open', 'settled': False}\n",
      "{'id': 'd5e40843-68f6-4246-b3f6-0147843238d3', 'price': '14070.03000000', 'size': '0.00010000', 'product_id': 'BTC-EUR', 'side': 'buy', 'stp': 'dc', 'type': 'limit', 'time_in_force': 'GTT', 'expire_time': '2018-01-06T20:41:26.016', 'post_only': True, 'created_at': '2018-01-06T20:40:26.016643Z', 'fill_fees': '0.0000000000000000', 'filled_size': '0.00000000', 'executed_value': '0.0000000000000000', 'status': 'open', 'settled': False}\n",
      "{'id': 'd5e40843-68f6-4246-b3f6-0147843238d3', 'price': '14070.03000000', 'size': '0.00010000', 'product_id': 'BTC-EUR', 'side': 'buy', 'stp': 'dc', 'type': 'limit', 'time_in_force': 'GTT', 'expire_time': '2018-01-06T20:41:26.016', 'post_only': True, 'created_at': '2018-01-06T20:40:26.016643Z', 'fill_fees': '0.0000000000000000', 'filled_size': '0.00000000', 'executed_value': '0.0000000000000000', 'status': 'open', 'settled': False}\n",
      "{'id': 'd5e40843-68f6-4246-b3f6-0147843238d3', 'price': '14070.03000000', 'size': '0.00010000', 'product_id': 'BTC-EUR', 'side': 'buy', 'stp': 'dc', 'type': 'limit', 'time_in_force': 'GTT', 'expire_time': '2018-01-06T20:41:26.016', 'post_only': True, 'created_at': '2018-01-06T20:40:26.016643Z', 'fill_fees': '0.0000000000000000', 'filled_size': '0.00000000', 'executed_value': '0.0000000000000000', 'status': 'open', 'settled': False}\n",
      "{'id': 'd5e40843-68f6-4246-b3f6-0147843238d3', 'price': '14070.03000000', 'size': '0.00010000', 'product_id': 'BTC-EUR', 'side': 'buy', 'stp': 'dc', 'type': 'limit', 'time_in_force': 'GTT', 'expire_time': '2018-01-06T20:41:26.016', 'post_only': True, 'created_at': '2018-01-06T20:40:26.016643Z', 'fill_fees': '0.0000000000000000', 'filled_size': '0.00000000', 'executed_value': '0.0000000000000000', 'status': 'open', 'settled': False}\n",
      "{'id': 'd5e40843-68f6-4246-b3f6-0147843238d3', 'price': '14070.03000000', 'size': '0.00010000', 'product_id': 'BTC-EUR', 'side': 'buy', 'stp': 'dc', 'type': 'limit', 'time_in_force': 'GTT', 'expire_time': '2018-01-06T20:41:26.016', 'post_only': True, 'created_at': '2018-01-06T20:40:26.016643Z', 'fill_fees': '0.0000000000000000', 'filled_size': '0.00000000', 'executed_value': '0.0000000000000000', 'status': 'open', 'settled': False}\n",
      "{'id': 'd5e40843-68f6-4246-b3f6-0147843238d3', 'price': '14070.03000000', 'size': '0.00010000', 'product_id': 'BTC-EUR', 'side': 'buy', 'stp': 'dc', 'type': 'limit', 'time_in_force': 'GTT', 'expire_time': '2018-01-06T20:41:26.016', 'post_only': True, 'created_at': '2018-01-06T20:40:26.016643Z', 'fill_fees': '0.0000000000000000', 'filled_size': '0.00000000', 'executed_value': '0.0000000000000000', 'status': 'open', 'settled': False}\n",
      "{'id': 'd5e40843-68f6-4246-b3f6-0147843238d3', 'price': '14070.03000000', 'size': '0.00010000', 'product_id': 'BTC-EUR', 'side': 'buy', 'stp': 'dc', 'type': 'limit', 'time_in_force': 'GTT', 'expire_time': '2018-01-06T20:41:26.016', 'post_only': True, 'created_at': '2018-01-06T20:40:26.016643Z', 'fill_fees': '0.0000000000000000', 'filled_size': '0.00000000', 'executed_value': '0.0000000000000000', 'status': 'open', 'settled': False}\n",
      "{'id': 'd5e40843-68f6-4246-b3f6-0147843238d3', 'price': '14070.03000000', 'size': '0.00010000', 'product_id': 'BTC-EUR', 'side': 'buy', 'stp': 'dc', 'type': 'limit', 'time_in_force': 'GTT', 'expire_time': '2018-01-06T20:41:26.016', 'post_only': True, 'created_at': '2018-01-06T20:40:26.016643Z', 'fill_fees': '0.0000000000000000', 'filled_size': '0.00000000', 'executed_value': '0.0000000000000000', 'status': 'open', 'settled': False}\n",
      "{'id': 'd5e40843-68f6-4246-b3f6-0147843238d3', 'price': '14070.03000000', 'size': '0.00010000', 'product_id': 'BTC-EUR', 'side': 'buy', 'stp': 'dc', 'type': 'limit', 'time_in_force': 'GTT', 'expire_time': '2018-01-06T20:41:26.016', 'post_only': True, 'created_at': '2018-01-06T20:40:26.016643Z', 'fill_fees': '0.0000000000000000', 'filled_size': '0.00000000', 'executed_value': '0.0000000000000000', 'status': 'open', 'settled': False}\n",
      "{'id': 'd5e40843-68f6-4246-b3f6-0147843238d3', 'price': '14070.03000000', 'size': '0.00010000', 'product_id': 'BTC-EUR', 'side': 'buy', 'stp': 'dc', 'type': 'limit', 'time_in_force': 'GTT', 'expire_time': '2018-01-06T20:41:26.016', 'post_only': True, 'created_at': '2018-01-06T20:40:26.016643Z', 'fill_fees': '0.0000000000000000', 'filled_size': '0.00000000', 'executed_value': '0.0000000000000000', 'status': 'open', 'settled': False}\n",
      "{'id': 'd5e40843-68f6-4246-b3f6-0147843238d3', 'price': '14070.03000000', 'size': '0.00010000', 'product_id': 'BTC-EUR', 'side': 'buy', 'stp': 'dc', 'type': 'limit', 'time_in_force': 'GTT', 'expire_time': '2018-01-06T20:41:26.016', 'post_only': True, 'created_at': '2018-01-06T20:40:26.016643Z', 'fill_fees': '0.0000000000000000', 'filled_size': '0.00000000', 'executed_value': '0.0000000000000000', 'status': 'open', 'settled': False}\n",
      "{'id': 'd5e40843-68f6-4246-b3f6-0147843238d3', 'price': '14070.03000000', 'size': '0.00010000', 'product_id': 'BTC-EUR', 'side': 'buy', 'stp': 'dc', 'type': 'limit', 'time_in_force': 'GTT', 'expire_time': '2018-01-06T20:41:26.016', 'post_only': True, 'created_at': '2018-01-06T20:40:26.016643Z', 'fill_fees': '0.0000000000000000', 'filled_size': '0.00000000', 'executed_value': '0.0000000000000000', 'status': 'open', 'settled': False}\n",
      "{'id': 'd5e40843-68f6-4246-b3f6-0147843238d3', 'price': '14070.03000000', 'size': '0.00010000', 'product_id': 'BTC-EUR', 'side': 'buy', 'stp': 'dc', 'type': 'limit', 'time_in_force': 'GTT', 'expire_time': '2018-01-06T20:41:26.016', 'post_only': True, 'created_at': '2018-01-06T20:40:26.016643Z', 'fill_fees': '0.0000000000000000', 'filled_size': '0.00000000', 'executed_value': '0.0000000000000000', 'status': 'open', 'settled': False}\n"
     ]
    },
    {
     "name": "stdout",
     "output_type": "stream",
     "text": [
      "{'id': 'd5e40843-68f6-4246-b3f6-0147843238d3', 'price': '14070.03000000', 'size': '0.00010000', 'product_id': 'BTC-EUR', 'side': 'buy', 'stp': 'dc', 'type': 'limit', 'time_in_force': 'GTT', 'expire_time': '2018-01-06T20:41:26.016', 'post_only': True, 'created_at': '2018-01-06T20:40:26.016643Z', 'fill_fees': '0.0000000000000000', 'filled_size': '0.00000000', 'executed_value': '0.0000000000000000', 'status': 'open', 'settled': False}\n",
      "{'id': 'd5e40843-68f6-4246-b3f6-0147843238d3', 'price': '14070.03000000', 'size': '0.00010000', 'product_id': 'BTC-EUR', 'side': 'buy', 'stp': 'dc', 'type': 'limit', 'time_in_force': 'GTT', 'expire_time': '2018-01-06T20:41:26.016', 'post_only': True, 'created_at': '2018-01-06T20:40:26.016643Z', 'fill_fees': '0.0000000000000000', 'filled_size': '0.00000000', 'executed_value': '0.0000000000000000', 'status': 'open', 'settled': False}\n",
      "{'id': 'd5e40843-68f6-4246-b3f6-0147843238d3', 'price': '14070.03000000', 'size': '0.00010000', 'product_id': 'BTC-EUR', 'side': 'buy', 'stp': 'dc', 'type': 'limit', 'time_in_force': 'GTT', 'expire_time': '2018-01-06T20:41:26.016', 'post_only': True, 'created_at': '2018-01-06T20:40:26.016643Z', 'fill_fees': '0.0000000000000000', 'filled_size': '0.00000000', 'executed_value': '0.0000000000000000', 'status': 'open', 'settled': False}\n",
      "{'id': 'd5e40843-68f6-4246-b3f6-0147843238d3', 'price': '14070.03000000', 'size': '0.00010000', 'product_id': 'BTC-EUR', 'side': 'buy', 'stp': 'dc', 'type': 'limit', 'time_in_force': 'GTT', 'expire_time': '2018-01-06T20:41:26.016', 'post_only': True, 'created_at': '2018-01-06T20:40:26.016643Z', 'fill_fees': '0.0000000000000000', 'filled_size': '0.00000000', 'executed_value': '0.0000000000000000', 'status': 'open', 'settled': False}\n",
      "{'id': 'd5e40843-68f6-4246-b3f6-0147843238d3', 'price': '14070.03000000', 'size': '0.00010000', 'product_id': 'BTC-EUR', 'side': 'buy', 'stp': 'dc', 'type': 'limit', 'time_in_force': 'GTT', 'expire_time': '2018-01-06T20:41:26.016', 'post_only': True, 'created_at': '2018-01-06T20:40:26.016643Z', 'fill_fees': '0.0000000000000000', 'filled_size': '0.00000000', 'executed_value': '0.0000000000000000', 'status': 'open', 'settled': False}\n",
      "{'id': 'd5e40843-68f6-4246-b3f6-0147843238d3', 'price': '14070.03000000', 'size': '0.00010000', 'product_id': 'BTC-EUR', 'side': 'buy', 'stp': 'dc', 'type': 'limit', 'time_in_force': 'GTT', 'expire_time': '2018-01-06T20:41:26.016', 'post_only': True, 'created_at': '2018-01-06T20:40:26.016643Z', 'fill_fees': '0.0000000000000000', 'filled_size': '0.00000000', 'executed_value': '0.0000000000000000', 'status': 'open', 'settled': False}\n",
      "{'id': 'd5e40843-68f6-4246-b3f6-0147843238d3', 'price': '14070.03000000', 'size': '0.00010000', 'product_id': 'BTC-EUR', 'side': 'buy', 'stp': 'dc', 'type': 'limit', 'time_in_force': 'GTT', 'expire_time': '2018-01-06T20:41:26.016', 'post_only': True, 'created_at': '2018-01-06T20:40:26.016643Z', 'fill_fees': '0.0000000000000000', 'filled_size': '0.00000000', 'executed_value': '0.0000000000000000', 'status': 'open', 'settled': False}\n",
      "{'id': 'd5e40843-68f6-4246-b3f6-0147843238d3', 'price': '14070.03000000', 'size': '0.00010000', 'product_id': 'BTC-EUR', 'side': 'buy', 'stp': 'dc', 'type': 'limit', 'time_in_force': 'GTT', 'expire_time': '2018-01-06T20:41:26.016', 'post_only': True, 'created_at': '2018-01-06T20:40:26.016643Z', 'fill_fees': '0.0000000000000000', 'filled_size': '0.00000000', 'executed_value': '0.0000000000000000', 'status': 'open', 'settled': False}\n",
      "{'id': 'd5e40843-68f6-4246-b3f6-0147843238d3', 'price': '14070.03000000', 'size': '0.00010000', 'product_id': 'BTC-EUR', 'side': 'buy', 'stp': 'dc', 'type': 'limit', 'time_in_force': 'GTT', 'expire_time': '2018-01-06T20:41:26.016', 'post_only': True, 'created_at': '2018-01-06T20:40:26.016643Z', 'fill_fees': '0.0000000000000000', 'filled_size': '0.00000000', 'executed_value': '0.0000000000000000', 'status': 'open', 'settled': False}\n",
      "{'id': 'd5e40843-68f6-4246-b3f6-0147843238d3', 'price': '14070.03000000', 'size': '0.00010000', 'product_id': 'BTC-EUR', 'side': 'buy', 'stp': 'dc', 'type': 'limit', 'time_in_force': 'GTT', 'expire_time': '2018-01-06T20:41:26.016', 'post_only': True, 'created_at': '2018-01-06T20:40:26.016643Z', 'fill_fees': '0.0000000000000000', 'filled_size': '0.00000000', 'executed_value': '0.0000000000000000', 'status': 'open', 'settled': False}\n",
      "{'id': 'd5e40843-68f6-4246-b3f6-0147843238d3', 'price': '14070.03000000', 'size': '0.00010000', 'product_id': 'BTC-EUR', 'side': 'buy', 'stp': 'dc', 'type': 'limit', 'time_in_force': 'GTT', 'expire_time': '2018-01-06T20:41:26.016', 'post_only': True, 'created_at': '2018-01-06T20:40:26.016643Z', 'fill_fees': '0.0000000000000000', 'filled_size': '0.00000000', 'executed_value': '0.0000000000000000', 'status': 'open', 'settled': False}\n",
      "{'id': 'd5e40843-68f6-4246-b3f6-0147843238d3', 'price': '14070.03000000', 'size': '0.00010000', 'product_id': 'BTC-EUR', 'side': 'buy', 'stp': 'dc', 'type': 'limit', 'time_in_force': 'GTT', 'expire_time': '2018-01-06T20:41:26.016', 'post_only': True, 'created_at': '2018-01-06T20:40:26.016643Z', 'fill_fees': '0.0000000000000000', 'filled_size': '0.00000000', 'executed_value': '0.0000000000000000', 'status': 'open', 'settled': False}\n",
      "{'id': 'd5e40843-68f6-4246-b3f6-0147843238d3', 'price': '14070.03000000', 'size': '0.00010000', 'product_id': 'BTC-EUR', 'side': 'buy', 'stp': 'dc', 'type': 'limit', 'time_in_force': 'GTT', 'expire_time': '2018-01-06T20:41:26.016', 'post_only': True, 'created_at': '2018-01-06T20:40:26.016643Z', 'fill_fees': '0.0000000000000000', 'filled_size': '0.00000000', 'executed_value': '0.0000000000000000', 'status': 'open', 'settled': False}\n",
      "{'id': 'd5e40843-68f6-4246-b3f6-0147843238d3', 'price': '14070.03000000', 'size': '0.00010000', 'product_id': 'BTC-EUR', 'side': 'buy', 'stp': 'dc', 'type': 'limit', 'time_in_force': 'GTT', 'expire_time': '2018-01-06T20:41:26.016', 'post_only': True, 'created_at': '2018-01-06T20:40:26.016643Z', 'fill_fees': '0.0000000000000000', 'filled_size': '0.00000000', 'executed_value': '0.0000000000000000', 'status': 'open', 'settled': False}\n",
      "{'id': 'd5e40843-68f6-4246-b3f6-0147843238d3', 'price': '14070.03000000', 'size': '0.00010000', 'product_id': 'BTC-EUR', 'side': 'buy', 'stp': 'dc', 'type': 'limit', 'time_in_force': 'GTT', 'expire_time': '2018-01-06T20:41:26.016', 'post_only': True, 'created_at': '2018-01-06T20:40:26.016643Z', 'fill_fees': '0.0000000000000000', 'filled_size': '0.00000000', 'executed_value': '0.0000000000000000', 'status': 'open', 'settled': False}\n",
      "{'id': 'd5e40843-68f6-4246-b3f6-0147843238d3', 'price': '14070.03000000', 'size': '0.00010000', 'product_id': 'BTC-EUR', 'side': 'buy', 'stp': 'dc', 'type': 'limit', 'time_in_force': 'GTT', 'expire_time': '2018-01-06T20:41:26.016', 'post_only': True, 'created_at': '2018-01-06T20:40:26.016643Z', 'fill_fees': '0.0000000000000000', 'filled_size': '0.00000000', 'executed_value': '0.0000000000000000', 'status': 'open', 'settled': False}\n",
      "{'id': 'd5e40843-68f6-4246-b3f6-0147843238d3', 'price': '14070.03000000', 'size': '0.00010000', 'product_id': 'BTC-EUR', 'side': 'buy', 'stp': 'dc', 'type': 'limit', 'time_in_force': 'GTT', 'expire_time': '2018-01-06T20:41:26.016', 'post_only': True, 'created_at': '2018-01-06T20:40:26.016643Z', 'fill_fees': '0.0000000000000000', 'filled_size': '0.00000000', 'executed_value': '0.0000000000000000', 'status': 'open', 'settled': False}\n",
      "{'id': 'd5e40843-68f6-4246-b3f6-0147843238d3', 'price': '14070.03000000', 'size': '0.00010000', 'product_id': 'BTC-EUR', 'side': 'buy', 'stp': 'dc', 'type': 'limit', 'time_in_force': 'GTT', 'expire_time': '2018-01-06T20:41:26.016', 'post_only': True, 'created_at': '2018-01-06T20:40:26.016643Z', 'fill_fees': '0.0000000000000000', 'filled_size': '0.00000000', 'executed_value': '0.0000000000000000', 'status': 'open', 'settled': False}\n",
      "{'id': 'd5e40843-68f6-4246-b3f6-0147843238d3', 'price': '14070.03000000', 'size': '0.00010000', 'product_id': 'BTC-EUR', 'side': 'buy', 'stp': 'dc', 'type': 'limit', 'time_in_force': 'GTT', 'expire_time': '2018-01-06T20:41:26.016', 'post_only': True, 'created_at': '2018-01-06T20:40:26.016643Z', 'fill_fees': '0.0000000000000000', 'filled_size': '0.00000000', 'executed_value': '0.0000000000000000', 'status': 'open', 'settled': False}\n"
     ]
    },
    {
     "name": "stdout",
     "output_type": "stream",
     "text": [
      "{'id': 'd5e40843-68f6-4246-b3f6-0147843238d3', 'price': '14070.03000000', 'size': '0.00010000', 'product_id': 'BTC-EUR', 'side': 'buy', 'stp': 'dc', 'type': 'limit', 'time_in_force': 'GTT', 'expire_time': '2018-01-06T20:41:26.016', 'post_only': True, 'created_at': '2018-01-06T20:40:26.016643Z', 'fill_fees': '0.0000000000000000', 'filled_size': '0.00000000', 'executed_value': '0.0000000000000000', 'status': 'open', 'settled': False}\n",
      "{'id': 'd5e40843-68f6-4246-b3f6-0147843238d3', 'price': '14070.03000000', 'size': '0.00010000', 'product_id': 'BTC-EUR', 'side': 'buy', 'stp': 'dc', 'type': 'limit', 'time_in_force': 'GTT', 'expire_time': '2018-01-06T20:41:26.016', 'post_only': True, 'created_at': '2018-01-06T20:40:26.016643Z', 'fill_fees': '0.0000000000000000', 'filled_size': '0.00000000', 'executed_value': '0.0000000000000000', 'status': 'open', 'settled': False}\n",
      "{'id': 'd5e40843-68f6-4246-b3f6-0147843238d3', 'price': '14070.03000000', 'size': '0.00010000', 'product_id': 'BTC-EUR', 'side': 'buy', 'stp': 'dc', 'type': 'limit', 'time_in_force': 'GTT', 'expire_time': '2018-01-06T20:41:26.016', 'post_only': True, 'created_at': '2018-01-06T20:40:26.016643Z', 'fill_fees': '0.0000000000000000', 'filled_size': '0.00000000', 'executed_value': '0.0000000000000000', 'status': 'open', 'settled': False}\n",
      "{'id': 'd5e40843-68f6-4246-b3f6-0147843238d3', 'price': '14070.03000000', 'size': '0.00010000', 'product_id': 'BTC-EUR', 'side': 'buy', 'stp': 'dc', 'type': 'limit', 'time_in_force': 'GTT', 'expire_time': '2018-01-06T20:41:26.016', 'post_only': True, 'created_at': '2018-01-06T20:40:26.016643Z', 'fill_fees': '0.0000000000000000', 'filled_size': '0.00000000', 'executed_value': '0.0000000000000000', 'status': 'open', 'settled': False}\n",
      "{'id': 'd5e40843-68f6-4246-b3f6-0147843238d3', 'price': '14070.03000000', 'size': '0.00010000', 'product_id': 'BTC-EUR', 'side': 'buy', 'stp': 'dc', 'type': 'limit', 'time_in_force': 'GTT', 'expire_time': '2018-01-06T20:41:26.016', 'post_only': True, 'created_at': '2018-01-06T20:40:26.016643Z', 'fill_fees': '0.0000000000000000', 'filled_size': '0.00000000', 'executed_value': '0.0000000000000000', 'status': 'open', 'settled': False}\n",
      "{'id': 'd5e40843-68f6-4246-b3f6-0147843238d3', 'price': '14070.03000000', 'size': '0.00010000', 'product_id': 'BTC-EUR', 'side': 'buy', 'stp': 'dc', 'type': 'limit', 'time_in_force': 'GTT', 'expire_time': '2018-01-06T20:41:26.016', 'post_only': True, 'created_at': '2018-01-06T20:40:26.016643Z', 'fill_fees': '0.0000000000000000', 'filled_size': '0.00000000', 'executed_value': '0.0000000000000000', 'status': 'open', 'settled': False}\n",
      "{'id': 'd5e40843-68f6-4246-b3f6-0147843238d3', 'price': '14070.03000000', 'size': '0.00010000', 'product_id': 'BTC-EUR', 'side': 'buy', 'stp': 'dc', 'type': 'limit', 'time_in_force': 'GTT', 'expire_time': '2018-01-06T20:41:26.016', 'post_only': True, 'created_at': '2018-01-06T20:40:26.016643Z', 'fill_fees': '0.0000000000000000', 'filled_size': '0.00000000', 'executed_value': '0.0000000000000000', 'status': 'open', 'settled': False}\n",
      "{'id': 'd5e40843-68f6-4246-b3f6-0147843238d3', 'price': '14070.03000000', 'size': '0.00010000', 'product_id': 'BTC-EUR', 'side': 'buy', 'stp': 'dc', 'type': 'limit', 'time_in_force': 'GTT', 'expire_time': '2018-01-06T20:41:26.016', 'post_only': True, 'created_at': '2018-01-06T20:40:26.016643Z', 'fill_fees': '0.0000000000000000', 'filled_size': '0.00000000', 'executed_value': '0.0000000000000000', 'status': 'open', 'settled': False}\n",
      "{'id': 'd5e40843-68f6-4246-b3f6-0147843238d3', 'price': '14070.03000000', 'size': '0.00010000', 'product_id': 'BTC-EUR', 'side': 'buy', 'stp': 'dc', 'type': 'limit', 'time_in_force': 'GTT', 'expire_time': '2018-01-06T20:41:26.016', 'post_only': True, 'created_at': '2018-01-06T20:40:26.016643Z', 'fill_fees': '0.0000000000000000', 'filled_size': '0.00000000', 'executed_value': '0.0000000000000000', 'status': 'open', 'settled': False}\n",
      "{'id': 'd5e40843-68f6-4246-b3f6-0147843238d3', 'price': '14070.03000000', 'size': '0.00010000', 'product_id': 'BTC-EUR', 'side': 'buy', 'stp': 'dc', 'type': 'limit', 'time_in_force': 'GTT', 'expire_time': '2018-01-06T20:41:26.016', 'post_only': True, 'created_at': '2018-01-06T20:40:26.016643Z', 'fill_fees': '0.0000000000000000', 'filled_size': '0.00000000', 'executed_value': '0.0000000000000000', 'status': 'open', 'settled': False}\n",
      "{'id': 'd5e40843-68f6-4246-b3f6-0147843238d3', 'price': '14070.03000000', 'size': '0.00010000', 'product_id': 'BTC-EUR', 'side': 'buy', 'stp': 'dc', 'type': 'limit', 'time_in_force': 'GTT', 'expire_time': '2018-01-06T20:41:26.016', 'post_only': True, 'created_at': '2018-01-06T20:40:26.016643Z', 'fill_fees': '0.0000000000000000', 'filled_size': '0.00000000', 'executed_value': '0.0000000000000000', 'status': 'open', 'settled': False}\n",
      "{'id': 'd5e40843-68f6-4246-b3f6-0147843238d3', 'price': '14070.03000000', 'size': '0.00010000', 'product_id': 'BTC-EUR', 'side': 'buy', 'stp': 'dc', 'type': 'limit', 'time_in_force': 'GTT', 'expire_time': '2018-01-06T20:41:26.016', 'post_only': True, 'created_at': '2018-01-06T20:40:26.016643Z', 'fill_fees': '0.0000000000000000', 'filled_size': '0.00000000', 'executed_value': '0.0000000000000000', 'status': 'open', 'settled': False}\n",
      "{'id': 'd5e40843-68f6-4246-b3f6-0147843238d3', 'price': '14070.03000000', 'size': '0.00010000', 'product_id': 'BTC-EUR', 'side': 'buy', 'stp': 'dc', 'type': 'limit', 'time_in_force': 'GTT', 'expire_time': '2018-01-06T20:41:26.016', 'post_only': True, 'created_at': '2018-01-06T20:40:26.016643Z', 'fill_fees': '0.0000000000000000', 'filled_size': '0.00000000', 'executed_value': '0.0000000000000000', 'status': 'open', 'settled': False}\n",
      "{'id': 'd5e40843-68f6-4246-b3f6-0147843238d3', 'price': '14070.03000000', 'size': '0.00010000', 'product_id': 'BTC-EUR', 'side': 'buy', 'stp': 'dc', 'type': 'limit', 'time_in_force': 'GTT', 'expire_time': '2018-01-06T20:41:26.016', 'post_only': True, 'created_at': '2018-01-06T20:40:26.016643Z', 'fill_fees': '0.0000000000000000', 'filled_size': '0.00000000', 'executed_value': '0.0000000000000000', 'status': 'open', 'settled': False}\n",
      "{'id': 'd5e40843-68f6-4246-b3f6-0147843238d3', 'price': '14070.03000000', 'size': '0.00010000', 'product_id': 'BTC-EUR', 'side': 'buy', 'stp': 'dc', 'type': 'limit', 'time_in_force': 'GTT', 'expire_time': '2018-01-06T20:41:26.016', 'post_only': True, 'created_at': '2018-01-06T20:40:26.016643Z', 'fill_fees': '0.0000000000000000', 'filled_size': '0.00000000', 'executed_value': '0.0000000000000000', 'status': 'open', 'settled': False}\n",
      "{'id': 'd5e40843-68f6-4246-b3f6-0147843238d3', 'price': '14070.03000000', 'size': '0.00010000', 'product_id': 'BTC-EUR', 'side': 'buy', 'stp': 'dc', 'type': 'limit', 'time_in_force': 'GTT', 'expire_time': '2018-01-06T20:41:26.016', 'post_only': True, 'created_at': '2018-01-06T20:40:26.016643Z', 'fill_fees': '0.0000000000000000', 'filled_size': '0.00000000', 'executed_value': '0.0000000000000000', 'status': 'open', 'settled': False}\n",
      "{'id': 'd5e40843-68f6-4246-b3f6-0147843238d3', 'price': '14070.03000000', 'size': '0.00010000', 'product_id': 'BTC-EUR', 'side': 'buy', 'stp': 'dc', 'type': 'limit', 'time_in_force': 'GTT', 'expire_time': '2018-01-06T20:41:26.016', 'post_only': True, 'created_at': '2018-01-06T20:40:26.016643Z', 'fill_fees': '0.0000000000000000', 'filled_size': '0.00000000', 'executed_value': '0.0000000000000000', 'status': 'open', 'settled': False}\n",
      "{'id': 'd5e40843-68f6-4246-b3f6-0147843238d3', 'price': '14070.03000000', 'size': '0.00010000', 'product_id': 'BTC-EUR', 'side': 'buy', 'stp': 'dc', 'type': 'limit', 'time_in_force': 'GTT', 'expire_time': '2018-01-06T20:41:26.016', 'post_only': True, 'created_at': '2018-01-06T20:40:26.016643Z', 'fill_fees': '0.0000000000000000', 'filled_size': '0.00000000', 'executed_value': '0.0000000000000000', 'status': 'open', 'settled': False}\n",
      "{'id': 'd5e40843-68f6-4246-b3f6-0147843238d3', 'price': '14070.03000000', 'size': '0.00010000', 'product_id': 'BTC-EUR', 'side': 'buy', 'stp': 'dc', 'type': 'limit', 'time_in_force': 'GTT', 'expire_time': '2018-01-06T20:41:26.016', 'post_only': True, 'created_at': '2018-01-06T20:40:26.016643Z', 'fill_fees': '0.0000000000000000', 'filled_size': '0.00000000', 'executed_value': '0.0000000000000000', 'status': 'open', 'settled': False}\n"
     ]
    },
    {
     "name": "stdout",
     "output_type": "stream",
     "text": [
      "{'id': 'd5e40843-68f6-4246-b3f6-0147843238d3', 'price': '14070.03000000', 'size': '0.00010000', 'product_id': 'BTC-EUR', 'side': 'buy', 'stp': 'dc', 'type': 'limit', 'time_in_force': 'GTT', 'expire_time': '2018-01-06T20:41:26.016', 'post_only': True, 'created_at': '2018-01-06T20:40:26.016643Z', 'fill_fees': '0.0000000000000000', 'filled_size': '0.00000000', 'executed_value': '0.0000000000000000', 'status': 'open', 'settled': False}\n",
      "{'id': 'd5e40843-68f6-4246-b3f6-0147843238d3', 'price': '14070.03000000', 'size': '0.00010000', 'product_id': 'BTC-EUR', 'side': 'buy', 'stp': 'dc', 'type': 'limit', 'time_in_force': 'GTT', 'expire_time': '2018-01-06T20:41:26.016', 'post_only': True, 'created_at': '2018-01-06T20:40:26.016643Z', 'fill_fees': '0.0000000000000000', 'filled_size': '0.00000000', 'executed_value': '0.0000000000000000', 'status': 'open', 'settled': False}\n",
      "{'id': 'd5e40843-68f6-4246-b3f6-0147843238d3', 'price': '14070.03000000', 'size': '0.00010000', 'product_id': 'BTC-EUR', 'side': 'buy', 'stp': 'dc', 'type': 'limit', 'time_in_force': 'GTT', 'expire_time': '2018-01-06T20:41:26.016', 'post_only': True, 'created_at': '2018-01-06T20:40:26.016643Z', 'fill_fees': '0.0000000000000000', 'filled_size': '0.00000000', 'executed_value': '0.0000000000000000', 'status': 'open', 'settled': False}\n",
      "{'id': 'd5e40843-68f6-4246-b3f6-0147843238d3', 'price': '14070.03000000', 'size': '0.00010000', 'product_id': 'BTC-EUR', 'side': 'buy', 'stp': 'dc', 'type': 'limit', 'time_in_force': 'GTT', 'expire_time': '2018-01-06T20:41:26.016', 'post_only': True, 'created_at': '2018-01-06T20:40:26.016643Z', 'fill_fees': '0.0000000000000000', 'filled_size': '0.00000000', 'executed_value': '0.0000000000000000', 'status': 'open', 'settled': False}\n",
      "{'id': 'd5e40843-68f6-4246-b3f6-0147843238d3', 'price': '14070.03000000', 'size': '0.00010000', 'product_id': 'BTC-EUR', 'side': 'buy', 'stp': 'dc', 'type': 'limit', 'time_in_force': 'GTT', 'expire_time': '2018-01-06T20:41:26.016', 'post_only': True, 'created_at': '2018-01-06T20:40:26.016643Z', 'fill_fees': '0.0000000000000000', 'filled_size': '0.00000000', 'executed_value': '0.0000000000000000', 'status': 'open', 'settled': False}\n",
      "{'id': 'd5e40843-68f6-4246-b3f6-0147843238d3', 'price': '14070.03000000', 'size': '0.00010000', 'product_id': 'BTC-EUR', 'side': 'buy', 'stp': 'dc', 'type': 'limit', 'time_in_force': 'GTT', 'expire_time': '2018-01-06T20:41:26.016', 'post_only': True, 'created_at': '2018-01-06T20:40:26.016643Z', 'fill_fees': '0.0000000000000000', 'filled_size': '0.00000000', 'executed_value': '0.0000000000000000', 'status': 'open', 'settled': False}\n",
      "{'id': 'd5e40843-68f6-4246-b3f6-0147843238d3', 'price': '14070.03000000', 'size': '0.00010000', 'product_id': 'BTC-EUR', 'side': 'buy', 'stp': 'dc', 'type': 'limit', 'time_in_force': 'GTT', 'expire_time': '2018-01-06T20:41:26.016', 'post_only': True, 'created_at': '2018-01-06T20:40:26.016643Z', 'fill_fees': '0.0000000000000000', 'filled_size': '0.00000000', 'executed_value': '0.0000000000000000', 'status': 'open', 'settled': False}\n",
      "{'id': 'd5e40843-68f6-4246-b3f6-0147843238d3', 'price': '14070.03000000', 'size': '0.00010000', 'product_id': 'BTC-EUR', 'side': 'buy', 'stp': 'dc', 'type': 'limit', 'time_in_force': 'GTT', 'expire_time': '2018-01-06T20:41:26.016', 'post_only': True, 'created_at': '2018-01-06T20:40:26.016643Z', 'fill_fees': '0.0000000000000000', 'filled_size': '0.00000000', 'executed_value': '0.0000000000000000', 'status': 'open', 'settled': False}\n",
      "{'id': 'd5e40843-68f6-4246-b3f6-0147843238d3', 'price': '14070.03000000', 'size': '0.00010000', 'product_id': 'BTC-EUR', 'side': 'buy', 'stp': 'dc', 'type': 'limit', 'time_in_force': 'GTT', 'expire_time': '2018-01-06T20:41:26.016', 'post_only': True, 'created_at': '2018-01-06T20:40:26.016643Z', 'fill_fees': '0.0000000000000000', 'filled_size': '0.00000000', 'executed_value': '0.0000000000000000', 'status': 'open', 'settled': False}\n",
      "{'id': 'd5e40843-68f6-4246-b3f6-0147843238d3', 'price': '14070.03000000', 'size': '0.00010000', 'product_id': 'BTC-EUR', 'side': 'buy', 'stp': 'dc', 'type': 'limit', 'time_in_force': 'GTT', 'expire_time': '2018-01-06T20:41:26.016', 'post_only': True, 'created_at': '2018-01-06T20:40:26.016643Z', 'fill_fees': '0.0000000000000000', 'filled_size': '0.00000000', 'executed_value': '0.0000000000000000', 'status': 'open', 'settled': False}\n",
      "{'id': 'd5e40843-68f6-4246-b3f6-0147843238d3', 'price': '14070.03000000', 'size': '0.00010000', 'product_id': 'BTC-EUR', 'side': 'buy', 'stp': 'dc', 'type': 'limit', 'time_in_force': 'GTT', 'expire_time': '2018-01-06T20:41:26.016', 'post_only': True, 'created_at': '2018-01-06T20:40:26.016643Z', 'fill_fees': '0.0000000000000000', 'filled_size': '0.00000000', 'executed_value': '0.0000000000000000', 'status': 'open', 'settled': False}\n",
      "{'id': 'd5e40843-68f6-4246-b3f6-0147843238d3', 'price': '14070.03000000', 'size': '0.00010000', 'product_id': 'BTC-EUR', 'side': 'buy', 'stp': 'dc', 'type': 'limit', 'time_in_force': 'GTT', 'expire_time': '2018-01-06T20:41:26.016', 'post_only': True, 'created_at': '2018-01-06T20:40:26.016643Z', 'fill_fees': '0.0000000000000000', 'filled_size': '0.00000000', 'executed_value': '0.0000000000000000', 'status': 'open', 'settled': False}\n",
      "{'id': 'd5e40843-68f6-4246-b3f6-0147843238d3', 'price': '14070.03000000', 'size': '0.00010000', 'product_id': 'BTC-EUR', 'side': 'buy', 'stp': 'dc', 'type': 'limit', 'time_in_force': 'GTT', 'expire_time': '2018-01-06T20:41:26.016', 'post_only': True, 'created_at': '2018-01-06T20:40:26.016643Z', 'fill_fees': '0.0000000000000000', 'filled_size': '0.00000000', 'executed_value': '0.0000000000000000', 'status': 'open', 'settled': False}\n",
      "{'id': 'd5e40843-68f6-4246-b3f6-0147843238d3', 'price': '14070.03000000', 'size': '0.00010000', 'product_id': 'BTC-EUR', 'side': 'buy', 'stp': 'dc', 'type': 'limit', 'time_in_force': 'GTT', 'expire_time': '2018-01-06T20:41:26.016', 'post_only': True, 'created_at': '2018-01-06T20:40:26.016643Z', 'fill_fees': '0.0000000000000000', 'filled_size': '0.00000000', 'executed_value': '0.0000000000000000', 'status': 'open', 'settled': False}\n",
      "{'id': 'd5e40843-68f6-4246-b3f6-0147843238d3', 'price': '14070.03000000', 'size': '0.00010000', 'product_id': 'BTC-EUR', 'side': 'buy', 'stp': 'dc', 'type': 'limit', 'time_in_force': 'GTT', 'expire_time': '2018-01-06T20:41:26.016', 'post_only': True, 'created_at': '2018-01-06T20:40:26.016643Z', 'fill_fees': '0.0000000000000000', 'filled_size': '0.00000000', 'executed_value': '0.0000000000000000', 'status': 'open', 'settled': False}\n",
      "{'id': 'd5e40843-68f6-4246-b3f6-0147843238d3', 'price': '14070.03000000', 'size': '0.00010000', 'product_id': 'BTC-EUR', 'side': 'buy', 'stp': 'dc', 'type': 'limit', 'time_in_force': 'GTT', 'expire_time': '2018-01-06T20:41:26.016', 'post_only': True, 'created_at': '2018-01-06T20:40:26.016643Z', 'fill_fees': '0.0000000000000000', 'filled_size': '0.00000000', 'executed_value': '0.0000000000000000', 'status': 'open', 'settled': False}\n",
      "{'id': 'd5e40843-68f6-4246-b3f6-0147843238d3', 'price': '14070.03000000', 'size': '0.00010000', 'product_id': 'BTC-EUR', 'side': 'buy', 'stp': 'dc', 'type': 'limit', 'time_in_force': 'GTT', 'expire_time': '2018-01-06T20:41:26.016', 'post_only': True, 'created_at': '2018-01-06T20:40:26.016643Z', 'fill_fees': '0.0000000000000000', 'filled_size': '0.00000000', 'executed_value': '0.0000000000000000', 'status': 'open', 'settled': False}\n",
      "{'id': 'd5e40843-68f6-4246-b3f6-0147843238d3', 'price': '14070.03000000', 'size': '0.00010000', 'product_id': 'BTC-EUR', 'side': 'buy', 'stp': 'dc', 'type': 'limit', 'time_in_force': 'GTT', 'expire_time': '2018-01-06T20:41:26.016', 'post_only': True, 'created_at': '2018-01-06T20:40:26.016643Z', 'fill_fees': '0.0000000000000000', 'filled_size': '0.00000000', 'executed_value': '0.0000000000000000', 'status': 'open', 'settled': False}\n",
      "{'id': 'd5e40843-68f6-4246-b3f6-0147843238d3', 'price': '14070.03000000', 'size': '0.00010000', 'product_id': 'BTC-EUR', 'side': 'buy', 'stp': 'dc', 'type': 'limit', 'time_in_force': 'GTT', 'expire_time': '2018-01-06T20:41:26.016', 'post_only': True, 'created_at': '2018-01-06T20:40:26.016643Z', 'fill_fees': '0.0000000000000000', 'filled_size': '0.00000000', 'executed_value': '0.0000000000000000', 'status': 'open', 'settled': False}\n"
     ]
    },
    {
     "name": "stdout",
     "output_type": "stream",
     "text": [
      "{'id': 'd5e40843-68f6-4246-b3f6-0147843238d3', 'price': '14070.03000000', 'size': '0.00010000', 'product_id': 'BTC-EUR', 'side': 'buy', 'stp': 'dc', 'type': 'limit', 'time_in_force': 'GTT', 'expire_time': '2018-01-06T20:41:26.016', 'post_only': True, 'created_at': '2018-01-06T20:40:26.016643Z', 'fill_fees': '0.0000000000000000', 'filled_size': '0.00000000', 'executed_value': '0.0000000000000000', 'status': 'open', 'settled': False}\n",
      "{'id': 'd5e40843-68f6-4246-b3f6-0147843238d3', 'price': '14070.03000000', 'size': '0.00010000', 'product_id': 'BTC-EUR', 'side': 'buy', 'stp': 'dc', 'type': 'limit', 'time_in_force': 'GTT', 'expire_time': '2018-01-06T20:41:26.016', 'post_only': True, 'created_at': '2018-01-06T20:40:26.016643Z', 'fill_fees': '0.0000000000000000', 'filled_size': '0.00000000', 'executed_value': '0.0000000000000000', 'status': 'open', 'settled': False}\n",
      "{'id': 'd5e40843-68f6-4246-b3f6-0147843238d3', 'price': '14070.03000000', 'size': '0.00010000', 'product_id': 'BTC-EUR', 'side': 'buy', 'stp': 'dc', 'type': 'limit', 'time_in_force': 'GTT', 'expire_time': '2018-01-06T20:41:26.016', 'post_only': True, 'created_at': '2018-01-06T20:40:26.016643Z', 'fill_fees': '0.0000000000000000', 'filled_size': '0.00000000', 'executed_value': '0.0000000000000000', 'status': 'open', 'settled': False}\n",
      "{'id': 'd5e40843-68f6-4246-b3f6-0147843238d3', 'price': '14070.03000000', 'size': '0.00010000', 'product_id': 'BTC-EUR', 'side': 'buy', 'stp': 'dc', 'type': 'limit', 'time_in_force': 'GTT', 'expire_time': '2018-01-06T20:41:26.016', 'post_only': True, 'created_at': '2018-01-06T20:40:26.016643Z', 'fill_fees': '0.0000000000000000', 'filled_size': '0.00000000', 'executed_value': '0.0000000000000000', 'status': 'open', 'settled': False}\n",
      "{'id': 'd5e40843-68f6-4246-b3f6-0147843238d3', 'price': '14070.03000000', 'size': '0.00010000', 'product_id': 'BTC-EUR', 'side': 'buy', 'stp': 'dc', 'type': 'limit', 'time_in_force': 'GTT', 'expire_time': '2018-01-06T20:41:26.016', 'post_only': True, 'created_at': '2018-01-06T20:40:26.016643Z', 'fill_fees': '0.0000000000000000', 'filled_size': '0.00000000', 'executed_value': '0.0000000000000000', 'status': 'open', 'settled': False}\n",
      "{'id': 'd5e40843-68f6-4246-b3f6-0147843238d3', 'price': '14070.03000000', 'size': '0.00010000', 'product_id': 'BTC-EUR', 'side': 'buy', 'stp': 'dc', 'type': 'limit', 'time_in_force': 'GTT', 'expire_time': '2018-01-06T20:41:26.016', 'post_only': True, 'created_at': '2018-01-06T20:40:26.016643Z', 'fill_fees': '0.0000000000000000', 'filled_size': '0.00000000', 'executed_value': '0.0000000000000000', 'status': 'open', 'settled': False}\n",
      "{'id': 'd5e40843-68f6-4246-b3f6-0147843238d3', 'price': '14070.03000000', 'size': '0.00010000', 'product_id': 'BTC-EUR', 'side': 'buy', 'stp': 'dc', 'type': 'limit', 'time_in_force': 'GTT', 'expire_time': '2018-01-06T20:41:26.016', 'post_only': True, 'created_at': '2018-01-06T20:40:26.016643Z', 'fill_fees': '0.0000000000000000', 'filled_size': '0.00000000', 'executed_value': '0.0000000000000000', 'status': 'open', 'settled': False}\n",
      "{'id': 'd5e40843-68f6-4246-b3f6-0147843238d3', 'price': '14070.03000000', 'size': '0.00010000', 'product_id': 'BTC-EUR', 'side': 'buy', 'stp': 'dc', 'type': 'limit', 'time_in_force': 'GTT', 'expire_time': '2018-01-06T20:41:26.016', 'post_only': True, 'created_at': '2018-01-06T20:40:26.016643Z', 'fill_fees': '0.0000000000000000', 'filled_size': '0.00000000', 'executed_value': '0.0000000000000000', 'status': 'open', 'settled': False}\n",
      "{'id': 'd5e40843-68f6-4246-b3f6-0147843238d3', 'price': '14070.03000000', 'size': '0.00010000', 'product_id': 'BTC-EUR', 'side': 'buy', 'stp': 'dc', 'type': 'limit', 'time_in_force': 'GTT', 'expire_time': '2018-01-06T20:41:26.016', 'post_only': True, 'created_at': '2018-01-06T20:40:26.016643Z', 'fill_fees': '0.0000000000000000', 'filled_size': '0.00000000', 'executed_value': '0.0000000000000000', 'status': 'open', 'settled': False}\n",
      "{'id': 'd5e40843-68f6-4246-b3f6-0147843238d3', 'price': '14070.03000000', 'size': '0.00010000', 'product_id': 'BTC-EUR', 'side': 'buy', 'stp': 'dc', 'type': 'limit', 'time_in_force': 'GTT', 'expire_time': '2018-01-06T20:41:26.016', 'post_only': True, 'created_at': '2018-01-06T20:40:26.016643Z', 'fill_fees': '0.0000000000000000', 'filled_size': '0.00000000', 'executed_value': '0.0000000000000000', 'status': 'open', 'settled': False}\n",
      "{'id': 'd5e40843-68f6-4246-b3f6-0147843238d3', 'price': '14070.03000000', 'size': '0.00010000', 'product_id': 'BTC-EUR', 'side': 'buy', 'stp': 'dc', 'type': 'limit', 'time_in_force': 'GTT', 'expire_time': '2018-01-06T20:41:26.016', 'post_only': True, 'created_at': '2018-01-06T20:40:26.016643Z', 'fill_fees': '0.0000000000000000', 'filled_size': '0.00000000', 'executed_value': '0.0000000000000000', 'status': 'open', 'settled': False}\n",
      "{'id': 'd5e40843-68f6-4246-b3f6-0147843238d3', 'price': '14070.03000000', 'size': '0.00010000', 'product_id': 'BTC-EUR', 'side': 'buy', 'stp': 'dc', 'type': 'limit', 'time_in_force': 'GTT', 'expire_time': '2018-01-06T20:41:26.016', 'post_only': True, 'created_at': '2018-01-06T20:40:26.016643Z', 'fill_fees': '0.0000000000000000', 'filled_size': '0.00000000', 'executed_value': '0.0000000000000000', 'status': 'open', 'settled': False}\n",
      "{'id': 'd5e40843-68f6-4246-b3f6-0147843238d3', 'price': '14070.03000000', 'size': '0.00010000', 'product_id': 'BTC-EUR', 'side': 'buy', 'stp': 'dc', 'type': 'limit', 'time_in_force': 'GTT', 'expire_time': '2018-01-06T20:41:26.016', 'post_only': True, 'created_at': '2018-01-06T20:40:26.016643Z', 'fill_fees': '0.0000000000000000', 'filled_size': '0.00000000', 'executed_value': '0.0000000000000000', 'status': 'open', 'settled': False}\n",
      "{'id': 'd5e40843-68f6-4246-b3f6-0147843238d3', 'price': '14070.03000000', 'size': '0.00010000', 'product_id': 'BTC-EUR', 'side': 'buy', 'stp': 'dc', 'type': 'limit', 'time_in_force': 'GTT', 'expire_time': '2018-01-06T20:41:26.016', 'post_only': True, 'created_at': '2018-01-06T20:40:26.016643Z', 'fill_fees': '0.0000000000000000', 'filled_size': '0.00000000', 'executed_value': '0.0000000000000000', 'status': 'open', 'settled': False}\n",
      "{'id': 'd5e40843-68f6-4246-b3f6-0147843238d3', 'price': '14070.03000000', 'size': '0.00010000', 'product_id': 'BTC-EUR', 'side': 'buy', 'stp': 'dc', 'type': 'limit', 'time_in_force': 'GTT', 'expire_time': '2018-01-06T20:41:26.016', 'post_only': True, 'created_at': '2018-01-06T20:40:26.016643Z', 'fill_fees': '0.0000000000000000', 'filled_size': '0.00000000', 'executed_value': '0.0000000000000000', 'status': 'open', 'settled': False}\n",
      "{'id': 'd5e40843-68f6-4246-b3f6-0147843238d3', 'price': '14070.03000000', 'size': '0.00010000', 'product_id': 'BTC-EUR', 'side': 'buy', 'stp': 'dc', 'type': 'limit', 'time_in_force': 'GTT', 'expire_time': '2018-01-06T20:41:26.016', 'post_only': True, 'created_at': '2018-01-06T20:40:26.016643Z', 'fill_fees': '0.0000000000000000', 'filled_size': '0.00000000', 'executed_value': '0.0000000000000000', 'status': 'open', 'settled': False}\n",
      "{'id': 'd5e40843-68f6-4246-b3f6-0147843238d3', 'price': '14070.03000000', 'size': '0.00010000', 'product_id': 'BTC-EUR', 'side': 'buy', 'stp': 'dc', 'type': 'limit', 'time_in_force': 'GTT', 'expire_time': '2018-01-06T20:41:26.016', 'post_only': True, 'created_at': '2018-01-06T20:40:26.016643Z', 'fill_fees': '0.0000000000000000', 'filled_size': '0.00000000', 'executed_value': '0.0000000000000000', 'status': 'open', 'settled': False}\n",
      "{'id': 'd5e40843-68f6-4246-b3f6-0147843238d3', 'price': '14070.03000000', 'size': '0.00010000', 'product_id': 'BTC-EUR', 'side': 'buy', 'stp': 'dc', 'type': 'limit', 'time_in_force': 'GTT', 'expire_time': '2018-01-06T20:41:26.016', 'post_only': True, 'created_at': '2018-01-06T20:40:26.016643Z', 'fill_fees': '0.0000000000000000', 'filled_size': '0.00000000', 'executed_value': '0.0000000000000000', 'status': 'open', 'settled': False}\n",
      "{'id': 'd5e40843-68f6-4246-b3f6-0147843238d3', 'price': '14070.03000000', 'size': '0.00010000', 'product_id': 'BTC-EUR', 'side': 'buy', 'stp': 'dc', 'type': 'limit', 'time_in_force': 'GTT', 'expire_time': '2018-01-06T20:41:26.016', 'post_only': True, 'created_at': '2018-01-06T20:40:26.016643Z', 'fill_fees': '0.0000000000000000', 'filled_size': '0.00000000', 'executed_value': '0.0000000000000000', 'status': 'open', 'settled': False}\n",
      "{'id': 'd5e40843-68f6-4246-b3f6-0147843238d3', 'price': '14070.03000000', 'size': '0.00010000', 'product_id': 'BTC-EUR', 'side': 'buy', 'stp': 'dc', 'type': 'limit', 'time_in_force': 'GTT', 'expire_time': '2018-01-06T20:41:26.016', 'post_only': True, 'created_at': '2018-01-06T20:40:26.016643Z', 'fill_fees': '0.0000000000000000', 'filled_size': '0.00000000', 'executed_value': '0.0000000000000000', 'status': 'open', 'settled': False}\n"
     ]
    },
    {
     "name": "stdout",
     "output_type": "stream",
     "text": [
      "{'id': 'd5e40843-68f6-4246-b3f6-0147843238d3', 'price': '14070.03000000', 'size': '0.00010000', 'product_id': 'BTC-EUR', 'side': 'buy', 'stp': 'dc', 'type': 'limit', 'time_in_force': 'GTT', 'expire_time': '2018-01-06T20:41:26.016', 'post_only': True, 'created_at': '2018-01-06T20:40:26.016643Z', 'fill_fees': '0.0000000000000000', 'filled_size': '0.00000000', 'executed_value': '0.0000000000000000', 'status': 'open', 'settled': False}\n",
      "{'id': 'd5e40843-68f6-4246-b3f6-0147843238d3', 'price': '14070.03000000', 'size': '0.00010000', 'product_id': 'BTC-EUR', 'side': 'buy', 'stp': 'dc', 'type': 'limit', 'time_in_force': 'GTT', 'expire_time': '2018-01-06T20:41:26.016', 'post_only': True, 'created_at': '2018-01-06T20:40:26.016643Z', 'fill_fees': '0.0000000000000000', 'filled_size': '0.00000000', 'executed_value': '0.0000000000000000', 'status': 'open', 'settled': False}\n",
      "{'id': 'd5e40843-68f6-4246-b3f6-0147843238d3', 'price': '14070.03000000', 'size': '0.00010000', 'product_id': 'BTC-EUR', 'side': 'buy', 'stp': 'dc', 'type': 'limit', 'time_in_force': 'GTT', 'expire_time': '2018-01-06T20:41:26.016', 'post_only': True, 'created_at': '2018-01-06T20:40:26.016643Z', 'fill_fees': '0.0000000000000000', 'filled_size': '0.00000000', 'executed_value': '0.0000000000000000', 'status': 'open', 'settled': False}\n",
      "{'id': 'd5e40843-68f6-4246-b3f6-0147843238d3', 'price': '14070.03000000', 'size': '0.00010000', 'product_id': 'BTC-EUR', 'side': 'buy', 'stp': 'dc', 'type': 'limit', 'time_in_force': 'GTT', 'expire_time': '2018-01-06T20:41:26.016', 'post_only': True, 'created_at': '2018-01-06T20:40:26.016643Z', 'fill_fees': '0.0000000000000000', 'filled_size': '0.00000000', 'executed_value': '0.0000000000000000', 'status': 'open', 'settled': False}\n",
      "{'id': 'd5e40843-68f6-4246-b3f6-0147843238d3', 'price': '14070.03000000', 'size': '0.00010000', 'product_id': 'BTC-EUR', 'side': 'buy', 'stp': 'dc', 'type': 'limit', 'time_in_force': 'GTT', 'expire_time': '2018-01-06T20:41:26.016', 'post_only': True, 'created_at': '2018-01-06T20:40:26.016643Z', 'fill_fees': '0.0000000000000000', 'filled_size': '0.00000000', 'executed_value': '0.0000000000000000', 'status': 'open', 'settled': False}\n",
      "{'id': 'd5e40843-68f6-4246-b3f6-0147843238d3', 'price': '14070.03000000', 'size': '0.00010000', 'product_id': 'BTC-EUR', 'side': 'buy', 'stp': 'dc', 'type': 'limit', 'time_in_force': 'GTT', 'expire_time': '2018-01-06T20:41:26.016', 'post_only': True, 'created_at': '2018-01-06T20:40:26.016643Z', 'fill_fees': '0.0000000000000000', 'filled_size': '0.00000000', 'executed_value': '0.0000000000000000', 'status': 'open', 'settled': False}\n",
      "{'id': 'd5e40843-68f6-4246-b3f6-0147843238d3', 'price': '14070.03000000', 'size': '0.00010000', 'product_id': 'BTC-EUR', 'side': 'buy', 'stp': 'dc', 'type': 'limit', 'time_in_force': 'GTT', 'expire_time': '2018-01-06T20:41:26.016', 'post_only': True, 'created_at': '2018-01-06T20:40:26.016643Z', 'fill_fees': '0.0000000000000000', 'filled_size': '0.00000000', 'executed_value': '0.0000000000000000', 'status': 'open', 'settled': False}\n",
      "{'id': 'd5e40843-68f6-4246-b3f6-0147843238d3', 'price': '14070.03000000', 'size': '0.00010000', 'product_id': 'BTC-EUR', 'side': 'buy', 'stp': 'dc', 'type': 'limit', 'time_in_force': 'GTT', 'expire_time': '2018-01-06T20:41:26.016', 'post_only': True, 'created_at': '2018-01-06T20:40:26.016643Z', 'fill_fees': '0.0000000000000000', 'filled_size': '0.00000000', 'executed_value': '0.0000000000000000', 'status': 'open', 'settled': False}\n",
      "{'id': 'd5e40843-68f6-4246-b3f6-0147843238d3', 'price': '14070.03000000', 'size': '0.00010000', 'product_id': 'BTC-EUR', 'side': 'buy', 'stp': 'dc', 'type': 'limit', 'time_in_force': 'GTT', 'expire_time': '2018-01-06T20:41:26.016', 'post_only': True, 'created_at': '2018-01-06T20:40:26.016643Z', 'fill_fees': '0.0000000000000000', 'filled_size': '0.00000000', 'executed_value': '0.0000000000000000', 'status': 'open', 'settled': False}\n",
      "{'id': 'd5e40843-68f6-4246-b3f6-0147843238d3', 'price': '14070.03000000', 'size': '0.00010000', 'product_id': 'BTC-EUR', 'side': 'buy', 'stp': 'dc', 'type': 'limit', 'time_in_force': 'GTT', 'expire_time': '2018-01-06T20:41:26.016', 'post_only': True, 'created_at': '2018-01-06T20:40:26.016643Z', 'fill_fees': '0.0000000000000000', 'filled_size': '0.00000000', 'executed_value': '0.0000000000000000', 'status': 'open', 'settled': False}\n",
      "{'id': 'd5e40843-68f6-4246-b3f6-0147843238d3', 'price': '14070.03000000', 'size': '0.00010000', 'product_id': 'BTC-EUR', 'side': 'buy', 'stp': 'dc', 'type': 'limit', 'time_in_force': 'GTT', 'expire_time': '2018-01-06T20:41:26.016', 'post_only': True, 'created_at': '2018-01-06T20:40:26.016643Z', 'fill_fees': '0.0000000000000000', 'filled_size': '0.00000000', 'executed_value': '0.0000000000000000', 'status': 'open', 'settled': False}\n",
      "{'id': 'd5e40843-68f6-4246-b3f6-0147843238d3', 'price': '14070.03000000', 'size': '0.00010000', 'product_id': 'BTC-EUR', 'side': 'buy', 'stp': 'dc', 'type': 'limit', 'time_in_force': 'GTT', 'expire_time': '2018-01-06T20:41:26.016', 'post_only': True, 'created_at': '2018-01-06T20:40:26.016643Z', 'fill_fees': '0.0000000000000000', 'filled_size': '0.00000000', 'executed_value': '0.0000000000000000', 'status': 'open', 'settled': False}\n",
      "{'id': 'd5e40843-68f6-4246-b3f6-0147843238d3', 'price': '14070.03000000', 'size': '0.00010000', 'product_id': 'BTC-EUR', 'side': 'buy', 'stp': 'dc', 'type': 'limit', 'time_in_force': 'GTT', 'expire_time': '2018-01-06T20:41:26.016', 'post_only': True, 'created_at': '2018-01-06T20:40:26.016643Z', 'fill_fees': '0.0000000000000000', 'filled_size': '0.00000000', 'executed_value': '0.0000000000000000', 'status': 'open', 'settled': False}\n",
      "{'id': 'd5e40843-68f6-4246-b3f6-0147843238d3', 'price': '14070.03000000', 'size': '0.00010000', 'product_id': 'BTC-EUR', 'side': 'buy', 'stp': 'dc', 'type': 'limit', 'time_in_force': 'GTT', 'expire_time': '2018-01-06T20:41:26.016', 'post_only': True, 'created_at': '2018-01-06T20:40:26.016643Z', 'fill_fees': '0.0000000000000000', 'filled_size': '0.00000000', 'executed_value': '0.0000000000000000', 'status': 'open', 'settled': False}\n",
      "{'id': 'd5e40843-68f6-4246-b3f6-0147843238d3', 'price': '14070.03000000', 'size': '0.00010000', 'product_id': 'BTC-EUR', 'side': 'buy', 'stp': 'dc', 'type': 'limit', 'time_in_force': 'GTT', 'expire_time': '2018-01-06T20:41:26.016', 'post_only': True, 'created_at': '2018-01-06T20:40:26.016643Z', 'fill_fees': '0.0000000000000000', 'filled_size': '0.00000000', 'executed_value': '0.0000000000000000', 'status': 'open', 'settled': False}\n",
      "{'id': 'd5e40843-68f6-4246-b3f6-0147843238d3', 'price': '14070.03000000', 'size': '0.00010000', 'product_id': 'BTC-EUR', 'side': 'buy', 'stp': 'dc', 'type': 'limit', 'time_in_force': 'GTT', 'expire_time': '2018-01-06T20:41:26.016', 'post_only': True, 'created_at': '2018-01-06T20:40:26.016643Z', 'fill_fees': '0.0000000000000000', 'filled_size': '0.00000000', 'executed_value': '0.0000000000000000', 'status': 'open', 'settled': False}\n",
      "{'id': 'd5e40843-68f6-4246-b3f6-0147843238d3', 'price': '14070.03000000', 'size': '0.00010000', 'product_id': 'BTC-EUR', 'side': 'buy', 'stp': 'dc', 'type': 'limit', 'time_in_force': 'GTT', 'expire_time': '2018-01-06T20:41:26.016', 'post_only': True, 'created_at': '2018-01-06T20:40:26.016643Z', 'fill_fees': '0.0000000000000000', 'filled_size': '0.00000000', 'executed_value': '0.0000000000000000', 'status': 'open', 'settled': False}\n",
      "{'id': 'd5e40843-68f6-4246-b3f6-0147843238d3', 'price': '14070.03000000', 'size': '0.00010000', 'product_id': 'BTC-EUR', 'side': 'buy', 'stp': 'dc', 'type': 'limit', 'time_in_force': 'GTT', 'expire_time': '2018-01-06T20:41:26.016', 'post_only': True, 'created_at': '2018-01-06T20:40:26.016643Z', 'fill_fees': '0.0000000000000000', 'filled_size': '0.00000000', 'executed_value': '0.0000000000000000', 'status': 'open', 'settled': False}\n",
      "{'id': 'd5e40843-68f6-4246-b3f6-0147843238d3', 'price': '14070.03000000', 'size': '0.00010000', 'product_id': 'BTC-EUR', 'side': 'buy', 'stp': 'dc', 'type': 'limit', 'time_in_force': 'GTT', 'expire_time': '2018-01-06T20:41:26.016', 'post_only': True, 'created_at': '2018-01-06T20:40:26.016643Z', 'fill_fees': '0.0000000000000000', 'filled_size': '0.00000000', 'executed_value': '0.0000000000000000', 'status': 'open', 'settled': False}\n",
      "{'id': 'd5e40843-68f6-4246-b3f6-0147843238d3', 'price': '14070.03000000', 'size': '0.00010000', 'product_id': 'BTC-EUR', 'side': 'buy', 'stp': 'dc', 'type': 'limit', 'time_in_force': 'GTT', 'expire_time': '2018-01-06T20:41:26.016', 'post_only': True, 'created_at': '2018-01-06T20:40:26.016643Z', 'fill_fees': '0.0000000000000000', 'filled_size': '0.00000000', 'executed_value': '0.0000000000000000', 'status': 'open', 'settled': False}\n"
     ]
    },
    {
     "name": "stdout",
     "output_type": "stream",
     "text": [
      "{'id': 'd5e40843-68f6-4246-b3f6-0147843238d3', 'price': '14070.03000000', 'size': '0.00010000', 'product_id': 'BTC-EUR', 'side': 'buy', 'stp': 'dc', 'type': 'limit', 'time_in_force': 'GTT', 'expire_time': '2018-01-06T20:41:26.016', 'post_only': True, 'created_at': '2018-01-06T20:40:26.016643Z', 'fill_fees': '0.0000000000000000', 'filled_size': '0.00000000', 'executed_value': '0.0000000000000000', 'status': 'open', 'settled': False}\n",
      "{'id': 'd5e40843-68f6-4246-b3f6-0147843238d3', 'price': '14070.03000000', 'size': '0.00010000', 'product_id': 'BTC-EUR', 'side': 'buy', 'stp': 'dc', 'type': 'limit', 'time_in_force': 'GTT', 'expire_time': '2018-01-06T20:41:26.016', 'post_only': True, 'created_at': '2018-01-06T20:40:26.016643Z', 'fill_fees': '0.0000000000000000', 'filled_size': '0.00000000', 'executed_value': '0.0000000000000000', 'status': 'open', 'settled': False}\n",
      "{'id': 'd5e40843-68f6-4246-b3f6-0147843238d3', 'price': '14070.03000000', 'size': '0.00010000', 'product_id': 'BTC-EUR', 'side': 'buy', 'stp': 'dc', 'type': 'limit', 'time_in_force': 'GTT', 'expire_time': '2018-01-06T20:41:26.016', 'post_only': True, 'created_at': '2018-01-06T20:40:26.016643Z', 'fill_fees': '0.0000000000000000', 'filled_size': '0.00000000', 'executed_value': '0.0000000000000000', 'status': 'open', 'settled': False}\n",
      "{'id': 'd5e40843-68f6-4246-b3f6-0147843238d3', 'price': '14070.03000000', 'size': '0.00010000', 'product_id': 'BTC-EUR', 'side': 'buy', 'stp': 'dc', 'type': 'limit', 'time_in_force': 'GTT', 'expire_time': '2018-01-06T20:41:26.016', 'post_only': True, 'created_at': '2018-01-06T20:40:26.016643Z', 'fill_fees': '0.0000000000000000', 'filled_size': '0.00000000', 'executed_value': '0.0000000000000000', 'status': 'open', 'settled': False}\n",
      "{'id': 'd5e40843-68f6-4246-b3f6-0147843238d3', 'price': '14070.03000000', 'size': '0.00010000', 'product_id': 'BTC-EUR', 'side': 'buy', 'stp': 'dc', 'type': 'limit', 'time_in_force': 'GTT', 'expire_time': '2018-01-06T20:41:26.016', 'post_only': True, 'created_at': '2018-01-06T20:40:26.016643Z', 'fill_fees': '0.0000000000000000', 'filled_size': '0.00000000', 'executed_value': '0.0000000000000000', 'status': 'open', 'settled': False}\n",
      "{'id': 'd5e40843-68f6-4246-b3f6-0147843238d3', 'price': '14070.03000000', 'size': '0.00010000', 'product_id': 'BTC-EUR', 'side': 'buy', 'stp': 'dc', 'type': 'limit', 'time_in_force': 'GTT', 'expire_time': '2018-01-06T20:41:26.016', 'post_only': True, 'created_at': '2018-01-06T20:40:26.016643Z', 'fill_fees': '0.0000000000000000', 'filled_size': '0.00000000', 'executed_value': '0.0000000000000000', 'status': 'open', 'settled': False}\n",
      "{'id': 'd5e40843-68f6-4246-b3f6-0147843238d3', 'price': '14070.03000000', 'size': '0.00010000', 'product_id': 'BTC-EUR', 'side': 'buy', 'stp': 'dc', 'type': 'limit', 'time_in_force': 'GTT', 'expire_time': '2018-01-06T20:41:26.016', 'post_only': True, 'created_at': '2018-01-06T20:40:26.016643Z', 'fill_fees': '0.0000000000000000', 'filled_size': '0.00000000', 'executed_value': '0.0000000000000000', 'status': 'open', 'settled': False}\n",
      "{'id': 'd5e40843-68f6-4246-b3f6-0147843238d3', 'price': '14070.03000000', 'size': '0.00010000', 'product_id': 'BTC-EUR', 'side': 'buy', 'stp': 'dc', 'type': 'limit', 'time_in_force': 'GTT', 'expire_time': '2018-01-06T20:41:26.016', 'post_only': True, 'created_at': '2018-01-06T20:40:26.016643Z', 'fill_fees': '0.0000000000000000', 'filled_size': '0.00000000', 'executed_value': '0.0000000000000000', 'status': 'open', 'settled': False}\n",
      "{'id': 'd5e40843-68f6-4246-b3f6-0147843238d3', 'price': '14070.03000000', 'size': '0.00010000', 'product_id': 'BTC-EUR', 'side': 'buy', 'stp': 'dc', 'type': 'limit', 'time_in_force': 'GTT', 'expire_time': '2018-01-06T20:41:26.016', 'post_only': True, 'created_at': '2018-01-06T20:40:26.016643Z', 'fill_fees': '0.0000000000000000', 'filled_size': '0.00000000', 'executed_value': '0.0000000000000000', 'status': 'open', 'settled': False}\n",
      "{'id': 'd5e40843-68f6-4246-b3f6-0147843238d3', 'price': '14070.03000000', 'size': '0.00010000', 'product_id': 'BTC-EUR', 'side': 'buy', 'stp': 'dc', 'type': 'limit', 'time_in_force': 'GTT', 'expire_time': '2018-01-06T20:41:26.016', 'post_only': True, 'created_at': '2018-01-06T20:40:26.016643Z', 'fill_fees': '0.0000000000000000', 'filled_size': '0.00000000', 'executed_value': '0.0000000000000000', 'status': 'open', 'settled': False}\n",
      "{'id': 'd5e40843-68f6-4246-b3f6-0147843238d3', 'price': '14070.03000000', 'size': '0.00010000', 'product_id': 'BTC-EUR', 'side': 'buy', 'stp': 'dc', 'type': 'limit', 'time_in_force': 'GTT', 'expire_time': '2018-01-06T20:41:26.016', 'post_only': True, 'created_at': '2018-01-06T20:40:26.016643Z', 'fill_fees': '0.0000000000000000', 'filled_size': '0.00000000', 'executed_value': '0.0000000000000000', 'status': 'open', 'settled': False}\n",
      "{'id': 'd5e40843-68f6-4246-b3f6-0147843238d3', 'price': '14070.03000000', 'size': '0.00010000', 'product_id': 'BTC-EUR', 'side': 'buy', 'stp': 'dc', 'type': 'limit', 'time_in_force': 'GTT', 'expire_time': '2018-01-06T20:41:26.016', 'post_only': True, 'created_at': '2018-01-06T20:40:26.016643Z', 'fill_fees': '0.0000000000000000', 'filled_size': '0.00000000', 'executed_value': '0.0000000000000000', 'status': 'open', 'settled': False}\n",
      "{'id': 'd5e40843-68f6-4246-b3f6-0147843238d3', 'price': '14070.03000000', 'size': '0.00010000', 'product_id': 'BTC-EUR', 'side': 'buy', 'stp': 'dc', 'type': 'limit', 'time_in_force': 'GTT', 'expire_time': '2018-01-06T20:41:26.016', 'post_only': True, 'created_at': '2018-01-06T20:40:26.016643Z', 'fill_fees': '0.0000000000000000', 'filled_size': '0.00000000', 'executed_value': '0.0000000000000000', 'status': 'open', 'settled': False}\n",
      "{'id': 'd5e40843-68f6-4246-b3f6-0147843238d3', 'price': '14070.03000000', 'size': '0.00010000', 'product_id': 'BTC-EUR', 'side': 'buy', 'stp': 'dc', 'type': 'limit', 'time_in_force': 'GTT', 'expire_time': '2018-01-06T20:41:26.016', 'post_only': True, 'created_at': '2018-01-06T20:40:26.016643Z', 'fill_fees': '0.0000000000000000', 'filled_size': '0.00000000', 'executed_value': '0.0000000000000000', 'status': 'open', 'settled': False}\n",
      "{'id': 'd5e40843-68f6-4246-b3f6-0147843238d3', 'price': '14070.03000000', 'size': '0.00010000', 'product_id': 'BTC-EUR', 'side': 'buy', 'stp': 'dc', 'type': 'limit', 'time_in_force': 'GTT', 'expire_time': '2018-01-06T20:41:26.016', 'post_only': True, 'created_at': '2018-01-06T20:40:26.016643Z', 'fill_fees': '0.0000000000000000', 'filled_size': '0.00000000', 'executed_value': '0.0000000000000000', 'status': 'open', 'settled': False}\n",
      "{'id': 'd5e40843-68f6-4246-b3f6-0147843238d3', 'price': '14070.03000000', 'size': '0.00010000', 'product_id': 'BTC-EUR', 'side': 'buy', 'stp': 'dc', 'type': 'limit', 'time_in_force': 'GTT', 'expire_time': '2018-01-06T20:41:26.016', 'post_only': True, 'created_at': '2018-01-06T20:40:26.016643Z', 'fill_fees': '0.0000000000000000', 'filled_size': '0.00000000', 'executed_value': '0.0000000000000000', 'status': 'open', 'settled': False}\n",
      "{'id': 'd5e40843-68f6-4246-b3f6-0147843238d3', 'price': '14070.03000000', 'size': '0.00010000', 'product_id': 'BTC-EUR', 'side': 'buy', 'stp': 'dc', 'type': 'limit', 'time_in_force': 'GTT', 'expire_time': '2018-01-06T20:41:26.016', 'post_only': True, 'created_at': '2018-01-06T20:40:26.016643Z', 'fill_fees': '0.0000000000000000', 'filled_size': '0.00000000', 'executed_value': '0.0000000000000000', 'status': 'open', 'settled': False}\n",
      "{'id': 'd5e40843-68f6-4246-b3f6-0147843238d3', 'price': '14070.03000000', 'size': '0.00010000', 'product_id': 'BTC-EUR', 'side': 'buy', 'stp': 'dc', 'type': 'limit', 'time_in_force': 'GTT', 'expire_time': '2018-01-06T20:41:26.016', 'post_only': True, 'created_at': '2018-01-06T20:40:26.016643Z', 'fill_fees': '0.0000000000000000', 'filled_size': '0.00000000', 'executed_value': '0.0000000000000000', 'status': 'open', 'settled': False}\n",
      "{'id': 'd5e40843-68f6-4246-b3f6-0147843238d3', 'price': '14070.03000000', 'size': '0.00010000', 'product_id': 'BTC-EUR', 'side': 'buy', 'stp': 'dc', 'type': 'limit', 'time_in_force': 'GTT', 'expire_time': '2018-01-06T20:41:26.016', 'post_only': True, 'created_at': '2018-01-06T20:40:26.016643Z', 'fill_fees': '0.0000000000000000', 'filled_size': '0.00000000', 'executed_value': '0.0000000000000000', 'status': 'open', 'settled': False}\n",
      "{'id': 'd5e40843-68f6-4246-b3f6-0147843238d3', 'price': '14070.03000000', 'size': '0.00010000', 'product_id': 'BTC-EUR', 'side': 'buy', 'stp': 'dc', 'type': 'limit', 'time_in_force': 'GTT', 'expire_time': '2018-01-06T20:41:26.016', 'post_only': True, 'created_at': '2018-01-06T20:40:26.016643Z', 'fill_fees': '0.0000000000000000', 'filled_size': '0.00000000', 'executed_value': '0.0000000000000000', 'status': 'open', 'settled': False}\n"
     ]
    },
    {
     "name": "stdout",
     "output_type": "stream",
     "text": [
      "{'id': 'd5e40843-68f6-4246-b3f6-0147843238d3', 'price': '14070.03000000', 'size': '0.00010000', 'product_id': 'BTC-EUR', 'side': 'buy', 'stp': 'dc', 'type': 'limit', 'time_in_force': 'GTT', 'expire_time': '2018-01-06T20:41:26.016', 'post_only': True, 'created_at': '2018-01-06T20:40:26.016643Z', 'fill_fees': '0.0000000000000000', 'filled_size': '0.00000000', 'executed_value': '0.0000000000000000', 'status': 'open', 'settled': False}\n",
      "{'id': 'd5e40843-68f6-4246-b3f6-0147843238d3', 'price': '14070.03000000', 'size': '0.00010000', 'product_id': 'BTC-EUR', 'side': 'buy', 'stp': 'dc', 'type': 'limit', 'time_in_force': 'GTT', 'expire_time': '2018-01-06T20:41:26.016', 'post_only': True, 'created_at': '2018-01-06T20:40:26.016643Z', 'fill_fees': '0.0000000000000000', 'filled_size': '0.00000000', 'executed_value': '0.0000000000000000', 'status': 'open', 'settled': False}\n",
      "{'id': 'd5e40843-68f6-4246-b3f6-0147843238d3', 'price': '14070.03000000', 'size': '0.00010000', 'product_id': 'BTC-EUR', 'side': 'buy', 'stp': 'dc', 'type': 'limit', 'time_in_force': 'GTT', 'expire_time': '2018-01-06T20:41:26.016', 'post_only': True, 'created_at': '2018-01-06T20:40:26.016643Z', 'fill_fees': '0.0000000000000000', 'filled_size': '0.00000000', 'executed_value': '0.0000000000000000', 'status': 'open', 'settled': False}\n",
      "{'id': 'd5e40843-68f6-4246-b3f6-0147843238d3', 'price': '14070.03000000', 'size': '0.00010000', 'product_id': 'BTC-EUR', 'side': 'buy', 'stp': 'dc', 'type': 'limit', 'time_in_force': 'GTT', 'expire_time': '2018-01-06T20:41:26.016', 'post_only': True, 'created_at': '2018-01-06T20:40:26.016643Z', 'fill_fees': '0.0000000000000000', 'filled_size': '0.00000000', 'executed_value': '0.0000000000000000', 'status': 'open', 'settled': False}\n",
      "{'id': 'd5e40843-68f6-4246-b3f6-0147843238d3', 'price': '14070.03000000', 'size': '0.00010000', 'product_id': 'BTC-EUR', 'side': 'buy', 'stp': 'dc', 'type': 'limit', 'time_in_force': 'GTT', 'expire_time': '2018-01-06T20:41:26.016', 'post_only': True, 'created_at': '2018-01-06T20:40:26.016643Z', 'fill_fees': '0.0000000000000000', 'filled_size': '0.00000000', 'executed_value': '0.0000000000000000', 'status': 'open', 'settled': False}\n",
      "{'id': 'd5e40843-68f6-4246-b3f6-0147843238d3', 'price': '14070.03000000', 'size': '0.00010000', 'product_id': 'BTC-EUR', 'side': 'buy', 'stp': 'dc', 'type': 'limit', 'time_in_force': 'GTT', 'expire_time': '2018-01-06T20:41:26.016', 'post_only': True, 'created_at': '2018-01-06T20:40:26.016643Z', 'fill_fees': '0.0000000000000000', 'filled_size': '0.00000000', 'executed_value': '0.0000000000000000', 'status': 'open', 'settled': False}\n",
      "{'id': 'd5e40843-68f6-4246-b3f6-0147843238d3', 'price': '14070.03000000', 'size': '0.00010000', 'product_id': 'BTC-EUR', 'side': 'buy', 'stp': 'dc', 'type': 'limit', 'time_in_force': 'GTT', 'expire_time': '2018-01-06T20:41:26.016', 'post_only': True, 'created_at': '2018-01-06T20:40:26.016643Z', 'fill_fees': '0.0000000000000000', 'filled_size': '0.00000000', 'executed_value': '0.0000000000000000', 'status': 'open', 'settled': False}\n",
      "{'id': 'd5e40843-68f6-4246-b3f6-0147843238d3', 'price': '14070.03000000', 'size': '0.00010000', 'product_id': 'BTC-EUR', 'side': 'buy', 'stp': 'dc', 'type': 'limit', 'time_in_force': 'GTT', 'expire_time': '2018-01-06T20:41:26.016', 'post_only': True, 'created_at': '2018-01-06T20:40:26.016643Z', 'fill_fees': '0.0000000000000000', 'filled_size': '0.00000000', 'executed_value': '0.0000000000000000', 'status': 'open', 'settled': False}\n",
      "{'id': 'd5e40843-68f6-4246-b3f6-0147843238d3', 'price': '14070.03000000', 'size': '0.00010000', 'product_id': 'BTC-EUR', 'side': 'buy', 'stp': 'dc', 'type': 'limit', 'time_in_force': 'GTT', 'expire_time': '2018-01-06T20:41:26.016', 'post_only': True, 'created_at': '2018-01-06T20:40:26.016643Z', 'fill_fees': '0.0000000000000000', 'filled_size': '0.00000000', 'executed_value': '0.0000000000000000', 'status': 'open', 'settled': False}\n",
      "{'id': 'd5e40843-68f6-4246-b3f6-0147843238d3', 'price': '14070.03000000', 'size': '0.00010000', 'product_id': 'BTC-EUR', 'side': 'buy', 'stp': 'dc', 'type': 'limit', 'time_in_force': 'GTT', 'expire_time': '2018-01-06T20:41:26.016', 'post_only': True, 'created_at': '2018-01-06T20:40:26.016643Z', 'fill_fees': '0.0000000000000000', 'filled_size': '0.00000000', 'executed_value': '0.0000000000000000', 'status': 'open', 'settled': False}\n",
      "{'id': 'd5e40843-68f6-4246-b3f6-0147843238d3', 'price': '14070.03000000', 'size': '0.00010000', 'product_id': 'BTC-EUR', 'side': 'buy', 'stp': 'dc', 'type': 'limit', 'time_in_force': 'GTT', 'expire_time': '2018-01-06T20:41:26.016', 'post_only': True, 'created_at': '2018-01-06T20:40:26.016643Z', 'fill_fees': '0.0000000000000000', 'filled_size': '0.00000000', 'executed_value': '0.0000000000000000', 'status': 'open', 'settled': False}\n",
      "{'id': 'd5e40843-68f6-4246-b3f6-0147843238d3', 'price': '14070.03000000', 'size': '0.00010000', 'product_id': 'BTC-EUR', 'side': 'buy', 'stp': 'dc', 'type': 'limit', 'time_in_force': 'GTT', 'expire_time': '2018-01-06T20:41:26.016', 'post_only': True, 'created_at': '2018-01-06T20:40:26.016643Z', 'fill_fees': '0.0000000000000000', 'filled_size': '0.00000000', 'executed_value': '0.0000000000000000', 'status': 'open', 'settled': False}\n",
      "{'id': 'd5e40843-68f6-4246-b3f6-0147843238d3', 'price': '14070.03000000', 'size': '0.00010000', 'product_id': 'BTC-EUR', 'side': 'buy', 'stp': 'dc', 'type': 'limit', 'time_in_force': 'GTT', 'expire_time': '2018-01-06T20:41:26.016', 'post_only': True, 'created_at': '2018-01-06T20:40:26.016643Z', 'fill_fees': '0.0000000000000000', 'filled_size': '0.00000000', 'executed_value': '0.0000000000000000', 'status': 'open', 'settled': False}\n",
      "{'id': 'd5e40843-68f6-4246-b3f6-0147843238d3', 'price': '14070.03000000', 'size': '0.00010000', 'product_id': 'BTC-EUR', 'side': 'buy', 'stp': 'dc', 'type': 'limit', 'time_in_force': 'GTT', 'expire_time': '2018-01-06T20:41:26.016', 'post_only': True, 'created_at': '2018-01-06T20:40:26.016643Z', 'fill_fees': '0.0000000000000000', 'filled_size': '0.00000000', 'executed_value': '0.0000000000000000', 'status': 'open', 'settled': False}\n",
      "{'id': 'd5e40843-68f6-4246-b3f6-0147843238d3', 'price': '14070.03000000', 'size': '0.00010000', 'product_id': 'BTC-EUR', 'side': 'buy', 'stp': 'dc', 'type': 'limit', 'time_in_force': 'GTT', 'expire_time': '2018-01-06T20:41:26.016', 'post_only': True, 'created_at': '2018-01-06T20:40:26.016643Z', 'fill_fees': '0.0000000000000000', 'filled_size': '0.00000000', 'executed_value': '0.0000000000000000', 'status': 'open', 'settled': False}\n",
      "{'id': 'd5e40843-68f6-4246-b3f6-0147843238d3', 'price': '14070.03000000', 'size': '0.00010000', 'product_id': 'BTC-EUR', 'side': 'buy', 'stp': 'dc', 'type': 'limit', 'time_in_force': 'GTT', 'expire_time': '2018-01-06T20:41:26.016', 'post_only': True, 'created_at': '2018-01-06T20:40:26.016643Z', 'fill_fees': '0.0000000000000000', 'filled_size': '0.00000000', 'executed_value': '0.0000000000000000', 'status': 'open', 'settled': False}\n",
      "{'id': 'd5e40843-68f6-4246-b3f6-0147843238d3', 'price': '14070.03000000', 'size': '0.00010000', 'product_id': 'BTC-EUR', 'side': 'buy', 'stp': 'dc', 'type': 'limit', 'time_in_force': 'GTT', 'expire_time': '2018-01-06T20:41:26.016', 'post_only': True, 'created_at': '2018-01-06T20:40:26.016643Z', 'fill_fees': '0.0000000000000000', 'filled_size': '0.00000000', 'executed_value': '0.0000000000000000', 'status': 'open', 'settled': False}\n",
      "{'id': 'd5e40843-68f6-4246-b3f6-0147843238d3', 'price': '14070.03000000', 'size': '0.00010000', 'product_id': 'BTC-EUR', 'side': 'buy', 'stp': 'dc', 'type': 'limit', 'time_in_force': 'GTT', 'expire_time': '2018-01-06T20:41:26.016', 'post_only': True, 'created_at': '2018-01-06T20:40:26.016643Z', 'fill_fees': '0.0000000000000000', 'filled_size': '0.00000000', 'executed_value': '0.0000000000000000', 'status': 'open', 'settled': False}\n",
      "{'id': 'd5e40843-68f6-4246-b3f6-0147843238d3', 'price': '14070.03000000', 'size': '0.00010000', 'product_id': 'BTC-EUR', 'side': 'buy', 'stp': 'dc', 'type': 'limit', 'time_in_force': 'GTT', 'expire_time': '2018-01-06T20:41:26.016', 'post_only': True, 'created_at': '2018-01-06T20:40:26.016643Z', 'fill_fees': '0.0000000000000000', 'filled_size': '0.00000000', 'executed_value': '0.0000000000000000', 'status': 'open', 'settled': False}\n"
     ]
    },
    {
     "name": "stdout",
     "output_type": "stream",
     "text": [
      "{'id': 'd5e40843-68f6-4246-b3f6-0147843238d3', 'price': '14070.03000000', 'size': '0.00010000', 'product_id': 'BTC-EUR', 'side': 'buy', 'stp': 'dc', 'type': 'limit', 'time_in_force': 'GTT', 'expire_time': '2018-01-06T20:41:26.016', 'post_only': True, 'created_at': '2018-01-06T20:40:26.016643Z', 'fill_fees': '0.0000000000000000', 'filled_size': '0.00000000', 'executed_value': '0.0000000000000000', 'status': 'open', 'settled': False}\n",
      "{'id': 'd5e40843-68f6-4246-b3f6-0147843238d3', 'price': '14070.03000000', 'size': '0.00010000', 'product_id': 'BTC-EUR', 'side': 'buy', 'stp': 'dc', 'type': 'limit', 'time_in_force': 'GTT', 'expire_time': '2018-01-06T20:41:26.016', 'post_only': True, 'created_at': '2018-01-06T20:40:26.016643Z', 'fill_fees': '0.0000000000000000', 'filled_size': '0.00000000', 'executed_value': '0.0000000000000000', 'status': 'open', 'settled': False}\n",
      "{'id': 'd5e40843-68f6-4246-b3f6-0147843238d3', 'price': '14070.03000000', 'size': '0.00010000', 'product_id': 'BTC-EUR', 'side': 'buy', 'stp': 'dc', 'type': 'limit', 'time_in_force': 'GTT', 'expire_time': '2018-01-06T20:41:26.016', 'post_only': True, 'created_at': '2018-01-06T20:40:26.016643Z', 'fill_fees': '0.0000000000000000', 'filled_size': '0.00000000', 'executed_value': '0.0000000000000000', 'status': 'open', 'settled': False}\n",
      "{'id': 'd5e40843-68f6-4246-b3f6-0147843238d3', 'price': '14070.03000000', 'size': '0.00010000', 'product_id': 'BTC-EUR', 'side': 'buy', 'stp': 'dc', 'type': 'limit', 'time_in_force': 'GTT', 'expire_time': '2018-01-06T20:41:26.016', 'post_only': True, 'created_at': '2018-01-06T20:40:26.016643Z', 'fill_fees': '0.0000000000000000', 'filled_size': '0.00000000', 'executed_value': '0.0000000000000000', 'status': 'open', 'settled': False}\n",
      "{'id': 'd5e40843-68f6-4246-b3f6-0147843238d3', 'price': '14070.03000000', 'size': '0.00010000', 'product_id': 'BTC-EUR', 'side': 'buy', 'stp': 'dc', 'type': 'limit', 'time_in_force': 'GTT', 'expire_time': '2018-01-06T20:41:26.016', 'post_only': True, 'created_at': '2018-01-06T20:40:26.016643Z', 'fill_fees': '0.0000000000000000', 'filled_size': '0.00000000', 'executed_value': '0.0000000000000000', 'status': 'open', 'settled': False}\n",
      "{'id': 'd5e40843-68f6-4246-b3f6-0147843238d3', 'price': '14070.03000000', 'size': '0.00010000', 'product_id': 'BTC-EUR', 'side': 'buy', 'stp': 'dc', 'type': 'limit', 'time_in_force': 'GTT', 'expire_time': '2018-01-06T20:41:26.016', 'post_only': True, 'created_at': '2018-01-06T20:40:26.016643Z', 'fill_fees': '0.0000000000000000', 'filled_size': '0.00000000', 'executed_value': '0.0000000000000000', 'status': 'open', 'settled': False}\n",
      "{'id': 'd5e40843-68f6-4246-b3f6-0147843238d3', 'price': '14070.03000000', 'size': '0.00010000', 'product_id': 'BTC-EUR', 'side': 'buy', 'stp': 'dc', 'type': 'limit', 'time_in_force': 'GTT', 'expire_time': '2018-01-06T20:41:26.016', 'post_only': True, 'created_at': '2018-01-06T20:40:26.016643Z', 'fill_fees': '0.0000000000000000', 'filled_size': '0.00000000', 'executed_value': '0.0000000000000000', 'status': 'open', 'settled': False}\n",
      "{'id': 'd5e40843-68f6-4246-b3f6-0147843238d3', 'price': '14070.03000000', 'size': '0.00010000', 'product_id': 'BTC-EUR', 'side': 'buy', 'stp': 'dc', 'type': 'limit', 'time_in_force': 'GTT', 'expire_time': '2018-01-06T20:41:26.016', 'post_only': True, 'created_at': '2018-01-06T20:40:26.016643Z', 'fill_fees': '0.0000000000000000', 'filled_size': '0.00000000', 'executed_value': '0.0000000000000000', 'status': 'open', 'settled': False}\n",
      "{'id': 'd5e40843-68f6-4246-b3f6-0147843238d3', 'price': '14070.03000000', 'size': '0.00010000', 'product_id': 'BTC-EUR', 'side': 'buy', 'stp': 'dc', 'type': 'limit', 'time_in_force': 'GTT', 'expire_time': '2018-01-06T20:41:26.016', 'post_only': True, 'created_at': '2018-01-06T20:40:26.016643Z', 'fill_fees': '0.0000000000000000', 'filled_size': '0.00000000', 'executed_value': '0.0000000000000000', 'status': 'open', 'settled': False}\n",
      "{'id': 'd5e40843-68f6-4246-b3f6-0147843238d3', 'price': '14070.03000000', 'size': '0.00010000', 'product_id': 'BTC-EUR', 'side': 'buy', 'stp': 'dc', 'type': 'limit', 'time_in_force': 'GTT', 'expire_time': '2018-01-06T20:41:26.016', 'post_only': True, 'created_at': '2018-01-06T20:40:26.016643Z', 'fill_fees': '0.0000000000000000', 'filled_size': '0.00000000', 'executed_value': '0.0000000000000000', 'status': 'open', 'settled': False}\n",
      "{'id': 'd5e40843-68f6-4246-b3f6-0147843238d3', 'price': '14070.03000000', 'size': '0.00010000', 'product_id': 'BTC-EUR', 'side': 'buy', 'stp': 'dc', 'type': 'limit', 'time_in_force': 'GTT', 'expire_time': '2018-01-06T20:41:26.016', 'post_only': True, 'created_at': '2018-01-06T20:40:26.016643Z', 'fill_fees': '0.0000000000000000', 'filled_size': '0.00000000', 'executed_value': '0.0000000000000000', 'status': 'open', 'settled': False}\n",
      "{'id': 'd5e40843-68f6-4246-b3f6-0147843238d3', 'price': '14070.03000000', 'size': '0.00010000', 'product_id': 'BTC-EUR', 'side': 'buy', 'stp': 'dc', 'type': 'limit', 'time_in_force': 'GTT', 'expire_time': '2018-01-06T20:41:26.016', 'post_only': True, 'created_at': '2018-01-06T20:40:26.016643Z', 'fill_fees': '0.0000000000000000', 'filled_size': '0.00000000', 'executed_value': '0.0000000000000000', 'status': 'open', 'settled': False}\n",
      "{'id': 'd5e40843-68f6-4246-b3f6-0147843238d3', 'price': '14070.03000000', 'size': '0.00010000', 'product_id': 'BTC-EUR', 'side': 'buy', 'stp': 'dc', 'type': 'limit', 'time_in_force': 'GTT', 'expire_time': '2018-01-06T20:41:26.016', 'post_only': True, 'created_at': '2018-01-06T20:40:26.016643Z', 'fill_fees': '0.0000000000000000', 'filled_size': '0.00000000', 'executed_value': '0.0000000000000000', 'status': 'open', 'settled': False}\n",
      "{'id': 'd5e40843-68f6-4246-b3f6-0147843238d3', 'price': '14070.03000000', 'size': '0.00010000', 'product_id': 'BTC-EUR', 'side': 'buy', 'stp': 'dc', 'type': 'limit', 'time_in_force': 'GTT', 'expire_time': '2018-01-06T20:41:26.016', 'post_only': True, 'created_at': '2018-01-06T20:40:26.016643Z', 'fill_fees': '0.0000000000000000', 'filled_size': '0.00000000', 'executed_value': '0.0000000000000000', 'status': 'open', 'settled': False}\n",
      "{'id': 'd5e40843-68f6-4246-b3f6-0147843238d3', 'price': '14070.03000000', 'size': '0.00010000', 'product_id': 'BTC-EUR', 'side': 'buy', 'stp': 'dc', 'type': 'limit', 'time_in_force': 'GTT', 'expire_time': '2018-01-06T20:41:26.016', 'post_only': True, 'created_at': '2018-01-06T20:40:26.016643Z', 'fill_fees': '0.0000000000000000', 'filled_size': '0.00000000', 'executed_value': '0.0000000000000000', 'status': 'open', 'settled': False}\n",
      "{'id': 'd5e40843-68f6-4246-b3f6-0147843238d3', 'price': '14070.03000000', 'size': '0.00010000', 'product_id': 'BTC-EUR', 'side': 'buy', 'stp': 'dc', 'type': 'limit', 'time_in_force': 'GTT', 'expire_time': '2018-01-06T20:41:26.016', 'post_only': True, 'created_at': '2018-01-06T20:40:26.016643Z', 'fill_fees': '0.0000000000000000', 'filled_size': '0.00000000', 'executed_value': '0.0000000000000000', 'status': 'open', 'settled': False}\n",
      "{'id': 'd5e40843-68f6-4246-b3f6-0147843238d3', 'price': '14070.03000000', 'size': '0.00010000', 'product_id': 'BTC-EUR', 'side': 'buy', 'stp': 'dc', 'type': 'limit', 'time_in_force': 'GTT', 'expire_time': '2018-01-06T20:41:26.016', 'post_only': True, 'created_at': '2018-01-06T20:40:26.016643Z', 'fill_fees': '0.0000000000000000', 'filled_size': '0.00000000', 'executed_value': '0.0000000000000000', 'status': 'open', 'settled': False}\n",
      "{'id': 'd5e40843-68f6-4246-b3f6-0147843238d3', 'price': '14070.03000000', 'size': '0.00010000', 'product_id': 'BTC-EUR', 'side': 'buy', 'stp': 'dc', 'type': 'limit', 'time_in_force': 'GTT', 'expire_time': '2018-01-06T20:41:26.016', 'post_only': True, 'created_at': '2018-01-06T20:40:26.016643Z', 'fill_fees': '0.0000000000000000', 'filled_size': '0.00000000', 'executed_value': '0.0000000000000000', 'status': 'open', 'settled': False}\n",
      "{'id': 'd5e40843-68f6-4246-b3f6-0147843238d3', 'price': '14070.03000000', 'size': '0.00010000', 'product_id': 'BTC-EUR', 'side': 'buy', 'stp': 'dc', 'type': 'limit', 'time_in_force': 'GTT', 'expire_time': '2018-01-06T20:41:26.016', 'post_only': True, 'created_at': '2018-01-06T20:40:26.016643Z', 'fill_fees': '0.0000000000000000', 'filled_size': '0.00000000', 'executed_value': '0.0000000000000000', 'status': 'open', 'settled': False}\n"
     ]
    },
    {
     "name": "stdout",
     "output_type": "stream",
     "text": [
      "{'id': 'd5e40843-68f6-4246-b3f6-0147843238d3', 'price': '14070.03000000', 'size': '0.00010000', 'product_id': 'BTC-EUR', 'side': 'buy', 'stp': 'dc', 'type': 'limit', 'time_in_force': 'GTT', 'expire_time': '2018-01-06T20:41:26.016', 'post_only': True, 'created_at': '2018-01-06T20:40:26.016643Z', 'fill_fees': '0.0000000000000000', 'filled_size': '0.00000000', 'executed_value': '0.0000000000000000', 'status': 'open', 'settled': False}\n",
      "{'id': 'd5e40843-68f6-4246-b3f6-0147843238d3', 'price': '14070.03000000', 'size': '0.00010000', 'product_id': 'BTC-EUR', 'side': 'buy', 'stp': 'dc', 'type': 'limit', 'time_in_force': 'GTT', 'expire_time': '2018-01-06T20:41:26.016', 'post_only': True, 'created_at': '2018-01-06T20:40:26.016643Z', 'fill_fees': '0.0000000000000000', 'filled_size': '0.00000000', 'executed_value': '0.0000000000000000', 'status': 'open', 'settled': False}\n",
      "{'id': 'd5e40843-68f6-4246-b3f6-0147843238d3', 'price': '14070.03000000', 'size': '0.00010000', 'product_id': 'BTC-EUR', 'side': 'buy', 'stp': 'dc', 'type': 'limit', 'time_in_force': 'GTT', 'expire_time': '2018-01-06T20:41:26.016', 'post_only': True, 'created_at': '2018-01-06T20:40:26.016643Z', 'fill_fees': '0.0000000000000000', 'filled_size': '0.00000000', 'executed_value': '0.0000000000000000', 'status': 'open', 'settled': False}\n",
      "{'id': 'd5e40843-68f6-4246-b3f6-0147843238d3', 'price': '14070.03000000', 'size': '0.00010000', 'product_id': 'BTC-EUR', 'side': 'buy', 'stp': 'dc', 'type': 'limit', 'time_in_force': 'GTT', 'expire_time': '2018-01-06T20:41:26.016', 'post_only': True, 'created_at': '2018-01-06T20:40:26.016643Z', 'fill_fees': '0.0000000000000000', 'filled_size': '0.00000000', 'executed_value': '0.0000000000000000', 'status': 'open', 'settled': False}\n",
      "{'id': 'd5e40843-68f6-4246-b3f6-0147843238d3', 'price': '14070.03000000', 'size': '0.00010000', 'product_id': 'BTC-EUR', 'side': 'buy', 'stp': 'dc', 'type': 'limit', 'time_in_force': 'GTT', 'expire_time': '2018-01-06T20:41:26.016', 'post_only': True, 'created_at': '2018-01-06T20:40:26.016643Z', 'fill_fees': '0.0000000000000000', 'filled_size': '0.00000000', 'executed_value': '0.0000000000000000', 'status': 'open', 'settled': False}\n",
      "{'id': 'd5e40843-68f6-4246-b3f6-0147843238d3', 'price': '14070.03000000', 'size': '0.00010000', 'product_id': 'BTC-EUR', 'side': 'buy', 'stp': 'dc', 'type': 'limit', 'time_in_force': 'GTT', 'expire_time': '2018-01-06T20:41:26.016', 'post_only': True, 'created_at': '2018-01-06T20:40:26.016643Z', 'fill_fees': '0.0000000000000000', 'filled_size': '0.00000000', 'executed_value': '0.0000000000000000', 'status': 'open', 'settled': False}\n",
      "{'id': 'd5e40843-68f6-4246-b3f6-0147843238d3', 'price': '14070.03000000', 'size': '0.00010000', 'product_id': 'BTC-EUR', 'side': 'buy', 'stp': 'dc', 'type': 'limit', 'time_in_force': 'GTT', 'expire_time': '2018-01-06T20:41:26.016', 'post_only': True, 'created_at': '2018-01-06T20:40:26.016643Z', 'fill_fees': '0.0000000000000000', 'filled_size': '0.00000000', 'executed_value': '0.0000000000000000', 'status': 'open', 'settled': False}\n",
      "{'id': 'd5e40843-68f6-4246-b3f6-0147843238d3', 'price': '14070.03000000', 'size': '0.00010000', 'product_id': 'BTC-EUR', 'side': 'buy', 'stp': 'dc', 'type': 'limit', 'time_in_force': 'GTT', 'expire_time': '2018-01-06T20:41:26.016', 'post_only': True, 'created_at': '2018-01-06T20:40:26.016643Z', 'fill_fees': '0.0000000000000000', 'filled_size': '0.00000000', 'executed_value': '0.0000000000000000', 'status': 'open', 'settled': False}\n",
      "{'id': 'd5e40843-68f6-4246-b3f6-0147843238d3', 'price': '14070.03000000', 'size': '0.00010000', 'product_id': 'BTC-EUR', 'side': 'buy', 'stp': 'dc', 'type': 'limit', 'time_in_force': 'GTT', 'expire_time': '2018-01-06T20:41:26.016', 'post_only': True, 'created_at': '2018-01-06T20:40:26.016643Z', 'fill_fees': '0.0000000000000000', 'filled_size': '0.00000000', 'executed_value': '0.0000000000000000', 'status': 'open', 'settled': False}\n",
      "{'id': 'd5e40843-68f6-4246-b3f6-0147843238d3', 'price': '14070.03000000', 'size': '0.00010000', 'product_id': 'BTC-EUR', 'side': 'buy', 'stp': 'dc', 'type': 'limit', 'time_in_force': 'GTT', 'expire_time': '2018-01-06T20:41:26.016', 'post_only': True, 'created_at': '2018-01-06T20:40:26.016643Z', 'fill_fees': '0.0000000000000000', 'filled_size': '0.00000000', 'executed_value': '0.0000000000000000', 'status': 'open', 'settled': False}\n",
      "{'id': 'd5e40843-68f6-4246-b3f6-0147843238d3', 'price': '14070.03000000', 'size': '0.00010000', 'product_id': 'BTC-EUR', 'side': 'buy', 'stp': 'dc', 'type': 'limit', 'time_in_force': 'GTT', 'expire_time': '2018-01-06T20:41:26.016', 'post_only': True, 'created_at': '2018-01-06T20:40:26.016643Z', 'fill_fees': '0.0000000000000000', 'filled_size': '0.00000000', 'executed_value': '0.0000000000000000', 'status': 'open', 'settled': False}\n",
      "{'id': 'd5e40843-68f6-4246-b3f6-0147843238d3', 'price': '14070.03000000', 'size': '0.00010000', 'product_id': 'BTC-EUR', 'side': 'buy', 'stp': 'dc', 'type': 'limit', 'time_in_force': 'GTT', 'expire_time': '2018-01-06T20:41:26.016', 'post_only': True, 'created_at': '2018-01-06T20:40:26.016643Z', 'fill_fees': '0.0000000000000000', 'filled_size': '0.00000000', 'executed_value': '0.0000000000000000', 'status': 'open', 'settled': False}\n",
      "{'id': 'd5e40843-68f6-4246-b3f6-0147843238d3', 'price': '14070.03000000', 'size': '0.00010000', 'product_id': 'BTC-EUR', 'side': 'buy', 'stp': 'dc', 'type': 'limit', 'time_in_force': 'GTT', 'expire_time': '2018-01-06T20:41:26.016', 'post_only': True, 'created_at': '2018-01-06T20:40:26.016643Z', 'fill_fees': '0.0000000000000000', 'filled_size': '0.00000000', 'executed_value': '0.0000000000000000', 'status': 'open', 'settled': False}\n",
      "{'id': 'd5e40843-68f6-4246-b3f6-0147843238d3', 'price': '14070.03000000', 'size': '0.00010000', 'product_id': 'BTC-EUR', 'side': 'buy', 'stp': 'dc', 'type': 'limit', 'time_in_force': 'GTT', 'expire_time': '2018-01-06T20:41:26.016', 'post_only': True, 'created_at': '2018-01-06T20:40:26.016643Z', 'fill_fees': '0.0000000000000000', 'filled_size': '0.00000000', 'executed_value': '0.0000000000000000', 'status': 'open', 'settled': False}\n",
      "{'message': 'NotFound'}\n"
     ]
    },
    {
     "ename": "KeyError",
     "evalue": "'settled'",
     "output_type": "error",
     "traceback": [
      "\u001b[0;31m---------------------------------------------------------------------------\u001b[0m",
      "\u001b[0;31mKeyError\u001b[0m                                  Traceback (most recent call last)",
      "\u001b[0;32m<ipython-input-10-effd3ace4a07>\u001b[0m in \u001b[0;36m<module>\u001b[0;34m()\u001b[0m\n\u001b[1;32m     15\u001b[0m     \u001b[0morder\u001b[0m \u001b[0;34m=\u001b[0m \u001b[0mclient\u001b[0m\u001b[0;34m.\u001b[0m\u001b[0mget_order\u001b[0m\u001b[0;34m(\u001b[0m\u001b[0morder_id\u001b[0m\u001b[0;34m)\u001b[0m\u001b[0;34m\u001b[0m\u001b[0m\n\u001b[1;32m     16\u001b[0m     \u001b[0mprint\u001b[0m\u001b[0;34m(\u001b[0m\u001b[0morder\u001b[0m\u001b[0;34m)\u001b[0m\u001b[0;34m\u001b[0m\u001b[0m\n\u001b[0;32m---> 17\u001b[0;31m     \u001b[0msettled\u001b[0m \u001b[0;34m=\u001b[0m \u001b[0morder\u001b[0m\u001b[0;34m[\u001b[0m\u001b[0;34m'settled'\u001b[0m\u001b[0;34m]\u001b[0m\u001b[0;34m\u001b[0m\u001b[0m\n\u001b[0m\u001b[1;32m     18\u001b[0m \u001b[0mprint\u001b[0m\u001b[0;34m(\u001b[0m\u001b[0;34m\"Order settled\"\u001b[0m\u001b[0;34m)\u001b[0m\u001b[0;34m\u001b[0m\u001b[0m\n\u001b[1;32m     19\u001b[0m \u001b[0;34m\u001b[0m\u001b[0m\n",
      "\u001b[0;31mKeyError\u001b[0m: 'settled'"
     ]
    }
   ],
   "source": [
    "# Buy 0.0001 BTC @ ask_price - 0.01\n",
    "book = client.get_product_order_book('BTC-EUR')\n",
    "ptb = round(float(book['asks'][0][0]) - 0.01, 2)\n",
    "order = client.buy(price=str(ptb), \n",
    "           size='0.0001', \n",
    "           product_id='BTC-EUR', \n",
    "           post_only=True, \n",
    "           time_in_force='GTT', \n",
    "           cancel_after='min')\n",
    "print(\"Order placed\")\n",
    "print(order)\n",
    "order_id = order['id']\n",
    "settled = order['settled']\n",
    "while not settled:\n",
    "    order = client.get_order(order_id)\n",
    "    print(order)\n",
    "    settled = order['settled']\n",
    "print(\"Order settled\")\n",
    "\n",
    "\n",
    "    "
   ]
  },
  {
   "cell_type": "code",
   "execution_count": 9,
   "metadata": {},
   "outputs": [
    {
     "data": {
      "text/plain": [
       "1.02"
      ]
     },
     "execution_count": 9,
     "metadata": {},
     "output_type": "execute_result"
    }
   ],
   "source": [
    "round(1.0199999, 2)\n"
   ]
  },
  {
   "cell_type": "code",
   "execution_count": null,
   "metadata": {},
   "outputs": [],
   "source": []
  }
 ],
 "metadata": {
  "kernelspec": {
   "display_name": "Python 3",
   "language": "python",
   "name": "python3"
  },
  "language_info": {
   "codemirror_mode": {
    "name": "ipython",
    "version": 3
   },
   "file_extension": ".py",
   "mimetype": "text/x-python",
   "name": "python",
   "nbconvert_exporter": "python",
   "pygments_lexer": "ipython3",
   "version": "3.6.6"
  }
 },
 "nbformat": 4,
 "nbformat_minor": 2
}
