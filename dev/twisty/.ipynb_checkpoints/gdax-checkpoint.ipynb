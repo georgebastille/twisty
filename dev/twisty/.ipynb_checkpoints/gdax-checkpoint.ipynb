{
 "cells": [
  {
   "cell_type": "code",
   "execution_count": 16,
   "metadata": {},
   "outputs": [],
   "source": [
    "import gdax\n",
    "public_client = gdax.PublicClient()"
   ]
  },
  {
   "cell_type": "code",
   "execution_count": 17,
   "metadata": {},
   "outputs": [
    {
     "data": {
      "text/plain": [
       "[{'base_currency': 'BCH',\n",
       "  'base_max_size': '250',\n",
       "  'base_min_size': '0.0001',\n",
       "  'display_name': 'BCH/USD',\n",
       "  'id': 'BCH-USD',\n",
       "  'margin_enabled': False,\n",
       "  'quote_currency': 'USD',\n",
       "  'quote_increment': '0.01',\n",
       "  'status': 'online',\n",
       "  'status_message': None},\n",
       " {'base_currency': 'LTC',\n",
       "  'base_max_size': '1000000',\n",
       "  'base_min_size': '0.01',\n",
       "  'display_name': 'LTC/EUR',\n",
       "  'id': 'LTC-EUR',\n",
       "  'margin_enabled': False,\n",
       "  'quote_currency': 'EUR',\n",
       "  'quote_increment': '0.01',\n",
       "  'status': 'online',\n",
       "  'status_message': None},\n",
       " {'base_currency': 'LTC',\n",
       "  'base_max_size': '1000000',\n",
       "  'base_min_size': '0.01',\n",
       "  'display_name': 'LTC/USD',\n",
       "  'id': 'LTC-USD',\n",
       "  'margin_enabled': False,\n",
       "  'quote_currency': 'USD',\n",
       "  'quote_increment': '0.01',\n",
       "  'status': 'online',\n",
       "  'status_message': None},\n",
       " {'base_currency': 'LTC',\n",
       "  'base_max_size': '1000000',\n",
       "  'base_min_size': '0.01',\n",
       "  'display_name': 'LTC/BTC',\n",
       "  'id': 'LTC-BTC',\n",
       "  'margin_enabled': False,\n",
       "  'quote_currency': 'BTC',\n",
       "  'quote_increment': '0.00001',\n",
       "  'status': 'online',\n",
       "  'status_message': None},\n",
       " {'base_currency': 'ETH',\n",
       "  'base_max_size': '5000',\n",
       "  'base_min_size': '0.001',\n",
       "  'display_name': 'ETH/EUR',\n",
       "  'id': 'ETH-EUR',\n",
       "  'margin_enabled': False,\n",
       "  'quote_currency': 'EUR',\n",
       "  'quote_increment': '0.01',\n",
       "  'status': 'online',\n",
       "  'status_message': None},\n",
       " {'base_currency': 'ETH',\n",
       "  'base_max_size': '5000',\n",
       "  'base_min_size': '0.001',\n",
       "  'display_name': 'ETH/USD',\n",
       "  'id': 'ETH-USD',\n",
       "  'margin_enabled': False,\n",
       "  'quote_currency': 'USD',\n",
       "  'quote_increment': '0.01',\n",
       "  'status': 'online',\n",
       "  'status_message': None},\n",
       " {'base_currency': 'ETH',\n",
       "  'base_max_size': '5000',\n",
       "  'base_min_size': '0.001',\n",
       "  'display_name': 'ETH/BTC',\n",
       "  'id': 'ETH-BTC',\n",
       "  'margin_enabled': False,\n",
       "  'quote_currency': 'BTC',\n",
       "  'quote_increment': '0.00001',\n",
       "  'status': 'online',\n",
       "  'status_message': None},\n",
       " {'base_currency': 'BTC',\n",
       "  'base_max_size': '250',\n",
       "  'base_min_size': '0.0001',\n",
       "  'display_name': 'BTC/GBP',\n",
       "  'id': 'BTC-GBP',\n",
       "  'margin_enabled': False,\n",
       "  'quote_currency': 'GBP',\n",
       "  'quote_increment': '0.01',\n",
       "  'status': 'online',\n",
       "  'status_message': None},\n",
       " {'base_currency': 'BTC',\n",
       "  'base_max_size': '250',\n",
       "  'base_min_size': '0.0001',\n",
       "  'display_name': 'BTC/EUR',\n",
       "  'id': 'BTC-EUR',\n",
       "  'margin_enabled': False,\n",
       "  'quote_currency': 'EUR',\n",
       "  'quote_increment': '0.01',\n",
       "  'status': 'online',\n",
       "  'status_message': None},\n",
       " {'base_currency': 'BTC',\n",
       "  'base_max_size': '250',\n",
       "  'base_min_size': '0.0001',\n",
       "  'display_name': 'BTC/USD',\n",
       "  'id': 'BTC-USD',\n",
       "  'margin_enabled': False,\n",
       "  'quote_currency': 'USD',\n",
       "  'quote_increment': '0.01',\n",
       "  'status': 'online',\n",
       "  'status_message': None}]"
      ]
     },
     "execution_count": 17,
     "metadata": {},
     "output_type": "execute_result"
    }
   ],
   "source": [
    "public_client.get_products()"
   ]
  },
  {
   "cell_type": "code",
   "execution_count": null,
   "metadata": {},
   "outputs": [],
   "source": [
    "# Get the order book at the default level.\n",
    "margins = []\n",
    "for i in range(2):\n",
    "    ob = public_client.get_product_order_book('BTC-EUR')\n",
    "    price = float(ob['bids'][0][0])\n",
    "    margin = float(ob['asks'][0][0]) - float(ob['bids'][0][0])\n",
    "    print(\"{} {1:.2f}\".format(price, margin))"
   ]
  },
  {
   "cell_type": "code",
   "execution_count": 4,
   "metadata": {},
   "outputs": [
    {
     "data": {
      "text/plain": [
       "{'asks': [['12719.45', '0.54582775', 7],\n",
       "  ['12719.52', '0.23158308', 1],\n",
       "  ['12720', '0.001', 1],\n",
       "  ['12720.04', '0.08155602', 1],\n",
       "  ['12720.17', '0.00397106', 1],\n",
       "  ['12725.35', '0.00031446', 1],\n",
       "  ['12726.4', '0.0004095', 1],\n",
       "  ['12741.5', '0.0001', 1],\n",
       "  ['12742.6', '0.0004091', 1],\n",
       "  ['12749.99', '0.00491275', 2],\n",
       "  ['12750', '0.1415622', 1],\n",
       "  ['12752.58', '0.1', 1],\n",
       "  ['12753.99', '0.00013125', 1],\n",
       "  ['12754', '0.0001', 1],\n",
       "  ['12754.29', '0.00013125', 1],\n",
       "  ['12754.3', '0.0004084', 1],\n",
       "  ['12754.4', '0.0004084', 1],\n",
       "  ['12757', '0.26221406', 3],\n",
       "  ['12757.2', '0.0004084', 1],\n",
       "  ['12757.6', '0.0004083', 1],\n",
       "  ['12759.44', '0.05', 1],\n",
       "  ['12759.9', '0.0004082', 1],\n",
       "  ['12759.99', '0.09', 1],\n",
       "  ['12760', '0.00566757', 2],\n",
       "  ['12762', '0.0024', 1],\n",
       "  ['12762.4', '0.0004084', 1],\n",
       "  ['12765.11', '0.05', 1],\n",
       "  ['12765.12', '0.01343689', 1],\n",
       "  ['12765.74', '0.0089', 1],\n",
       "  ['12766.5', '0.0001', 1],\n",
       "  ['12766.68', '0.001', 1],\n",
       "  ['12768.6', '0.001733', 1],\n",
       "  ['12768.96', '0.0005', 1],\n",
       "  ['12768.99', '0.0005', 1],\n",
       "  ['12769', '0.2', 1],\n",
       "  ['12769.78', '0.84034908', 1],\n",
       "  ['12769.79', '0.0009958', 1],\n",
       "  ['12770', '0.0031542', 1],\n",
       "  ['12774.47', '0.0840294', 1],\n",
       "  ['12774.49', '0.01', 1],\n",
       "  ['12775.03', '0.20475447', 1],\n",
       "  ['12775.54', '0.01343689', 1],\n",
       "  ['12775.56', '0.00820583', 1],\n",
       "  ['12775.77', '0.00067211', 1],\n",
       "  ['12776.27', '0.00033605', 1],\n",
       "  ['12776.33', '0.00059336', 1],\n",
       "  ['12776.7', '0.01724887', 1],\n",
       "  ['12776.83', '0.00029668', 1],\n",
       "  ['12777.4', '0.0004078', 1],\n",
       "  ['12778.99', '0.84034908', 1]],\n",
       " 'bids': [['12719.44', '0.25475883', 5],\n",
       "  ['12718.91', '0.01', 1],\n",
       "  ['12718.9', '0.08563761', 1],\n",
       "  ['12716.5', '0.0001', 1],\n",
       "  ['12709.43', '0.04951635', 1],\n",
       "  ['12704.7', '0.51', 1],\n",
       "  ['12704', '0.0001', 1],\n",
       "  ['12702.66', '0.01706763', 1],\n",
       "  ['12700', '0.28346457', 1],\n",
       "  ['12692', '0.00191282', 1],\n",
       "  ['12691.99', '0.01670905', 1],\n",
       "  ['12691.8', '0.01736425', 1],\n",
       "  ['12691.62', '0.00013125', 1],\n",
       "  ['12691.61', '0.16012657', 1],\n",
       "  ['12691.51', '0.00013125', 1],\n",
       "  ['12691.5', '0.0001', 1],\n",
       "  ['12691.01', '0.00013125', 1],\n",
       "  ['12691', '0.2', 1],\n",
       "  ['12690.41', '0.2112007', 2],\n",
       "  ['12690', '0.0177527', 1],\n",
       "  ['12689.99', '0.90529883', 4],\n",
       "  ['12689.95', '0.31521007', 1],\n",
       "  ['12689', '0.002', 1],\n",
       "  ['12685.58', '0.04951635', 1],\n",
       "  ['12685.57', '0.05764637', 2],\n",
       "  ['12685.5', '0.05', 1],\n",
       "  ['12685.05', '0.00026244', 1],\n",
       "  ['12685', '0.008', 1],\n",
       "  ['12684', '0.001', 1],\n",
       "  ['12683.59', '0.005', 1],\n",
       "  ['12683.1', '0.1', 1],\n",
       "  ['12682.02', '0.07518151', 1],\n",
       "  ['12682', '0.2', 1],\n",
       "  ['12681', '2.41244788', 1],\n",
       "  ['12680', '0.53647949', 4],\n",
       "  ['12679', '0.0021', 2],\n",
       "  ['12677.58', '0.001', 1],\n",
       "  ['12675', '0.11', 2],\n",
       "  ['12672.25', '0.00268378', 1],\n",
       "  ['12670', '0.005', 1],\n",
       "  ['12667.6', '0.30041385', 2],\n",
       "  ['12667.01', '0.01706763', 1],\n",
       "  ['12666.66', '0.0005', 1],\n",
       "  ['12666.5', '0.0001', 1],\n",
       "  ['12665.16', '0.01730179', 1],\n",
       "  ['12664.85', '0.001', 1],\n",
       "  ['12661.57', '0.04951635', 1],\n",
       "  ['12661.56', '0.00964653', 1],\n",
       "  ['12660', '0.503319', 2],\n",
       "  ['12659', '0.01184927', 1]],\n",
       " 'sequence': 3179181464}"
      ]
     },
     "execution_count": 4,
     "metadata": {},
     "output_type": "execute_result"
    }
   ],
   "source": [
    "# Get the order book at a specific level.\n",
    "\n",
    "public_client.get_product_order_book('BTC-EUR', level=2)"
   ]
  },
  {
   "cell_type": "code",
   "execution_count": 5,
   "metadata": {},
   "outputs": [
    {
     "data": {
      "text/plain": [
       "{'ask': '12741.4',\n",
       " 'bid': '12741.39',\n",
       " 'price': '12741.40000000',\n",
       " 'size': '0.00550701',\n",
       " 'time': '2018-01-04T11:46:49.275000Z',\n",
       " 'trade_id': 9053804,\n",
       " 'volume': '3536.32647172'}"
      ]
     },
     "execution_count": 5,
     "metadata": {},
     "output_type": "execute_result"
    }
   ],
   "source": [
    "# Get the product ticker for a specific product.\n",
    "public_client.get_product_ticker(product_id='BTC-EUR')"
   ]
  },
  {
   "cell_type": "code",
   "execution_count": null,
   "metadata": {},
   "outputs": [],
   "source": [
    "# Get the product trades for a specific product.\n",
    "public_client.get_product_trades(product_id='BTC-EUR')"
   ]
  },
  {
   "cell_type": "code",
   "execution_count": null,
   "metadata": {},
   "outputs": [],
   "source": [
    "public_client.get_product_historic_rates('BTC-EUR', start='2017-12-27T11:55:43Z', end='2017-12-27T11:56:43Z')"
   ]
  },
  {
   "cell_type": "code",
   "execution_count": 2,
   "metadata": {},
   "outputs": [
    {
     "data": {
      "text/plain": [
       "{'epoch': 1514490985.214, 'iso': '2017-12-28T19:56:25.214Z'}"
      ]
     },
     "execution_count": 2,
     "metadata": {},
     "output_type": "execute_result"
    }
   ],
   "source": [
    "public_client.get_time()"
   ]
  },
  {
   "cell_type": "code",
   "execution_count": 10,
   "metadata": {},
   "outputs": [],
   "source": [
    "import numpy as np\n",
    "\n",
    "def diff(vals, delta=-1):\n",
    "    shift = np.roll(vals, delta)\n",
    "    diff = np.subtract(shift, vals)\n",
    "    return diff[:delta]\n",
    "\n",
    "# Save historical data, take number of points and granularity\n",
    "from datetime import datetime, timedelta\n",
    "from math import ceil\n",
    "from time import sleep\n",
    "\n",
    "def historic_rates(product, num_candles, granularity=60, max_per=401, initial=None):\n",
    "    start = initial if initial else datetime.utcnow().replace(microsecond=0)\n",
    "    delta = timedelta(seconds=granularity) * max_per\n",
    "    full = ceil(num_candles / max_per)\n",
    "    rates = []\n",
    "    for i in range(1, full + 1):\n",
    "        frm = start - (delta * i)\n",
    "        to  = frm + delta\n",
    "        print('From: {}, To: {}'.format(frm.isoformat(), to.isoformat()))\n",
    "        rates.extend(public_client.get_product_historic_rates(product, start=frm.isoformat(), end=to.isoformat(), granularity=granularity))\n",
    "        sleep(1)\n",
    "    return rates\n",
    "\n",
    "rates = historic_rates('ETH-USD', 2, max_per=2)\n",
    "print([y / 60 + 1.0 for y in diff([x[0] for x in rates])])\n",
    "\n",
    "\n",
    "sum([0 if y == -60 else 1 for y in diff([x[0] for x in rates])])\n",
    "\n",
    "\n",
    "\n",
    "print(len(rates))\n",
    "\n",
    "print(rates)"
   ]
  },
  {
   "cell_type": "code",
   "execution_count": null,
   "metadata": {},
   "outputs": [],
   "source": [
    "import math\n",
    "math.ceil(2.5)"
   ]
  },
  {
   "cell_type": "code",
   "execution_count": null,
   "metadata": {},
   "outputs": [],
   "source": []
  }
 ],
 "metadata": {
  "kernelspec": {
   "display_name": "Python 3",
   "language": "python",
   "name": "python3"
  },
  "language_info": {
   "codemirror_mode": {
    "name": "ipython",
    "version": 3
   },
   "file_extension": ".py",
   "mimetype": "text/x-python",
   "name": "python",
   "nbconvert_exporter": "python",
   "pygments_lexer": "ipython3",
   "version": "3.5.3"
  }
 },
 "nbformat": 4,
 "nbformat_minor": 2
}
