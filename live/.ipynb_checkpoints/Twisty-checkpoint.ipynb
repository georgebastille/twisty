{
 "cells": [
  {
   "cell_type": "code",
   "execution_count": null,
   "metadata": {},
   "outputs": [],
   "source": [
    "import gdax\n",
    "\n",
    "from exchange import TwistyBook, PurchaseEngine\n",
    "from backtest import historic_prices\n",
    "from algorithms import get_PriceWatchOscillator\n",
    "\n",
    "from time import sleep, time\n",
    "from datetime import datetime, timedelta\n",
    "\n",
    "class Twisty():\n",
    "    def __init__(self):\n",
    "        phrase_file = open('./auth/gdax.p', 'r')\n",
    "        key_file = open('./auth/gdax.k', 'r')\n",
    "        sec_file = open('./auth/gdax.s', 'r')\n",
    "\n",
    "        phrase = phrase_file.read().replace('\\n','')\n",
    "        key = key_file.read().replace('\\n','')\n",
    "        sec = sec_file.read().replace('\\n','')\n",
    "\n",
    "        self.client = gdax.AuthenticatedClient(key, sec, phrase)\n",
    "        self.log = open('./logs/index.html', 'w')\n",
    "        #print(self.client.get_accounts())\n",
    "\n",
    "        phrase_file.close()\n",
    "        key_file.close()\n",
    "        sec_file.close()\n",
    "        \n",
    "        self.monitor_every = 300\n",
    "        self.product = 'ETH-EUR'\n",
    "        self.min_coin_transaction = 0.001\n",
    "        self.min_dp = 3\n",
    "        \n",
    "        self.book = TwistyBook(self.product)\n",
    "        self.engine = PurchaseEngine('ETH-EUR', self.client, self.book, hold_back=700.0)\n",
    "        \n",
    "    def go(self):\n",
    "        print('Entering Runloop')\n",
    "        \n",
    "        window = 288\n",
    "        tick_count = 0\n",
    "        algo = None\n",
    "        \n",
    "        self.engine.start()\n",
    "        sleep(3)\n",
    "        \n",
    "        while True:\n",
    "            if not algo or tick_count % window == 0:\n",
    "                win_warm = int(window * 1.1)\n",
    "                prices = historic_prices(self.client, self.product, win_warm, granularity=self.monitor_every)\n",
    "                algo = get_PriceWatchOscillator(prices[-win_warm:])\n",
    "                \n",
    "            log_s = datetime.now().strftime(\"%Y-%m-%d %H:%M:%S\")\n",
    "            start = time()\n",
    "            price = self.book.ask()\n",
    "            print(price)\n",
    "            decision = algo.tick(price)\n",
    "\n",
    "            log_s += ': Decision = {}, Price = {} {}'.format(decision, price, self.product)\n",
    "            \n",
    "            if decision:\n",
    "                self.engine.buy(hold_back=700.0)\n",
    "            else:\n",
    "                self.engine.sell()\n",
    "                \n",
    "            passed = time() - start\n",
    "            log_s += \", Processing = {}s\".format(round(passed, 2))\n",
    "            self.log.write(\"{}<br>\".format(log_s))\n",
    "            self.log.flush()\n",
    "            print(log_s)\n",
    "            tick_count += 1\n",
    "            if self.monitor_every > passed:\n",
    "                sleep(self.monitor_every - passed)\n",
    "                \n",
    "    def stop(self):\n",
    "        self.engine.stop()"
   ]
  },
  {
   "cell_type": "code",
   "execution_count": null,
   "metadata": {},
   "outputs": [
    {
     "name": "stdout",
     "output_type": "stream",
     "text": [
      "Hello2\n",
      "Entering Runloop\n",
      "Connected to websocket\n",
      "Snapshot\n",
      "Exchange Sychronised\n",
      "From: 2018-02-16T04:22:41, To: 2018-02-16T21:02:41\n",
      "From: 2018-02-15T11:42:41, To: 2018-02-16T04:22:41\n",
      "Last 10 prices: [754.89, 754.89, 754.89, 754.89, 754.88, 754.89, 755, 755, 755, 756]\n",
      "Backtesting Oscillator\n",
      "Optimal Up-Out = 0.006\n",
      "756.0\n",
      "756.0\n"
     ]
    }
   ],
   "source": [
    "t  = Twisty()\n",
    "t.go()"
   ]
  },
  {
   "cell_type": "code",
   "execution_count": null,
   "metadata": {},
   "outputs": [],
   "source": [
    "t.stop()\n"
   ]
  },
  {
   "cell_type": "code",
   "execution_count": null,
   "metadata": {},
   "outputs": [],
   "source": []
  },
  {
   "cell_type": "code",
   "execution_count": null,
   "metadata": {},
   "outputs": [],
   "source": []
  }
 ],
 "metadata": {
  "kernelspec": {
   "display_name": "Python 3",
   "language": "python",
   "name": "python3"
  },
  "language_info": {
   "codemirror_mode": {
    "name": "ipython",
    "version": 3
   },
   "file_extension": ".py",
   "mimetype": "text/x-python",
   "name": "python",
   "nbconvert_exporter": "python",
   "pygments_lexer": "ipython3",
   "version": "3.6.4"
  }
 },
 "nbformat": 4,
 "nbformat_minor": 2
}
